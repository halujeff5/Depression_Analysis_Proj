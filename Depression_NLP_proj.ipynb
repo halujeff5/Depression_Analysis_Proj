{
 "cells": [
  {
   "cell_type": "code",
   "execution_count": 1,
   "metadata": {},
   "outputs": [
    {
     "name": "stderr",
     "output_type": "stream",
     "text": [
      "[nltk_data] Downloading package stopwords to\n",
      "[nltk_data]     /Users/jeffreyng/nltk_data...\n",
      "[nltk_data]   Package stopwords is already up-to-date!\n",
      "[nltk_data] Downloading package punkt to /Users/jeffreyng/nltk_data...\n",
      "[nltk_data]   Package punkt is already up-to-date!\n",
      "[nltk_data] Downloading package wordnet to\n",
      "[nltk_data]     /Users/jeffreyng/nltk_data...\n",
      "[nltk_data]   Package wordnet is already up-to-date!\n"
     ]
    },
    {
     "data": {
      "text/plain": [
       "True"
      ]
     },
     "execution_count": 1,
     "metadata": {},
     "output_type": "execute_result"
    }
   ],
   "source": [
    "#Importing necessary packages and libraries\n",
    "import nltk\n",
    "import matplotlib.pyplot as plt\n",
    "import pandas as pd\n",
    "from sklearn.feature_extraction.text import CountVectorizer\n",
    "from sklearn.feature_extraction.text import TfidfVectorizer\n",
    "from sklearn.feature_extraction.text import TfidfTransformer\n",
    "from nltk.probability import FreqDist\n",
    "from nltk.corpus import stopwords\n",
    "from nltk.stem import PorterStemmer\n",
    "from sklearn.metrics import confusion_matrix\n",
    "import seaborn as sns\n",
    "from sklearn.naive_bayes import MultinomialNB\n",
    "from sklearn import metrics\n",
    "from sklearn.model_selection import train_test_split\n",
    "from matplotlib import cm\n",
    "import numpy as np\n",
    "import pickle\n",
    "from sklearn.ensemble import RandomForestClassifier\n",
    "from sklearn.metrics import accuracy_score\n",
    "from sklearn.metrics import f1_score\n",
    "from sklearn.naive_bayes import MultinomialNB\n",
    "from sklearn.metrics import recall_score\n",
    "nltk.download('stopwords')\n",
    "nltk.download('punkt')\n",
    "nltk.download('wordnet')"
   ]
  },
  {
   "cell_type": "code",
   "execution_count": 2,
   "metadata": {},
   "outputs": [],
   "source": [
    "from nltk.tokenize import RegexpTokenizer\n",
    "import re\n",
    "import string\n",
    "from nltk.stem import WordNetLemmatizer "
   ]
  },
  {
   "cell_type": "code",
   "execution_count": 3,
   "metadata": {},
   "outputs": [
    {
     "name": "stderr",
     "output_type": "stream",
     "text": [
      "/Users/jeffreyng/anaconda3/lib/python3.7/site-packages/IPython/core/interactiveshell.py:3058: DtypeWarning: Columns (9) have mixed types. Specify dtype option on import or set low_memory=False.\n",
      "  interactivity=interactivity, compiler=compiler, result=result)\n"
     ]
    },
    {
     "data": {
      "text/plain": [
       "(135742, 35)"
      ]
     },
     "execution_count": 3,
     "metadata": {},
     "output_type": "execute_result"
    }
   ],
   "source": [
    "#scraped CSV into dataframe\n",
    "df=pd.read_csv('file.csv')\n",
    "df.shape"
   ]
  },
  {
   "cell_type": "code",
   "execution_count": 4,
   "metadata": {},
   "outputs": [],
   "source": [
    "df[df.language=='en'].to_csv('english_results.csv')"
   ]
  },
  {
   "cell_type": "code",
   "execution_count": 5,
   "metadata": {},
   "outputs": [
    {
     "name": "stderr",
     "output_type": "stream",
     "text": [
      "/Users/jeffreyng/anaconda3/lib/python3.7/site-packages/IPython/core/interactiveshell.py:3058: DtypeWarning: Columns (6,7,16,17,18,24,25,26,27,28,29,30,32,33,34,35) have mixed types. Specify dtype option on import or set low_memory=False.\n",
      "  interactivity=interactivity, compiler=compiler, result=result)\n"
     ]
    }
   ],
   "source": [
    "df1=pd.read_csv('LIWC_English_results.csv')"
   ]
  },
  {
   "cell_type": "code",
   "execution_count": 6,
   "metadata": {},
   "outputs": [],
   "source": [
    "data=df[df.language=='en']"
   ]
  },
  {
   "cell_type": "code",
   "execution_count": 7,
   "metadata": {},
   "outputs": [
    {
     "data": {
      "text/plain": [
       "Index(['id', 'conversation_id', 'created_at', 'date', 'time', 'timezone',\n",
       "       'user_id', 'username', 'name', 'place', 'tweet', 'language', 'mentions',\n",
       "       'urls', 'photos', 'replies_count', 'retweets_count', 'likes_count',\n",
       "       'hashtags', 'cashtags', 'link', 'retweet', 'quote_url', 'video', 'near',\n",
       "       'geo', 'source', 'user_rt_id', 'user_rt', 'retweet_id', 'reply_to',\n",
       "       'retweet_date', 'translate', 'trans_src', 'trans_dest'],\n",
       "      dtype='object')"
      ]
     },
     "execution_count": 7,
     "metadata": {},
     "output_type": "execute_result"
    }
   ],
   "source": [
    "data.columns"
   ]
  },
  {
   "cell_type": "code",
   "execution_count": 8,
   "metadata": {},
   "outputs": [],
   "source": [
    "df3=pd.concat([df1, data], axis=1 )"
   ]
  },
  {
   "cell_type": "code",
   "execution_count": 9,
   "metadata": {},
   "outputs": [],
   "source": [
    "df3=df3[['username','Tone', 'posemo', 'negemo', 'anx', 'anger', 'sad', 'tweet']]"
   ]
  },
  {
   "cell_type": "code",
   "execution_count": 10,
   "metadata": {},
   "outputs": [
    {
     "data": {
      "text/html": [
       "<div>\n",
       "<style scoped>\n",
       "    .dataframe tbody tr th:only-of-type {\n",
       "        vertical-align: middle;\n",
       "    }\n",
       "\n",
       "    .dataframe tbody tr th {\n",
       "        vertical-align: top;\n",
       "    }\n",
       "\n",
       "    .dataframe thead th {\n",
       "        text-align: right;\n",
       "    }\n",
       "</style>\n",
       "<table border=\"1\" class=\"dataframe\">\n",
       "  <thead>\n",
       "    <tr style=\"text-align: right;\">\n",
       "      <th></th>\n",
       "      <th>username</th>\n",
       "      <th>Tone</th>\n",
       "      <th>posemo</th>\n",
       "      <th>negemo</th>\n",
       "      <th>anx</th>\n",
       "      <th>anger</th>\n",
       "      <th>sad</th>\n",
       "      <th>tweet</th>\n",
       "    </tr>\n",
       "  </thead>\n",
       "  <tbody>\n",
       "    <tr>\n",
       "      <td>0</td>\n",
       "      <td>cjthesmartguy</td>\n",
       "      <td>25.77</td>\n",
       "      <td>0.00</td>\n",
       "      <td>0.00</td>\n",
       "      <td>0.00</td>\n",
       "      <td>0.0</td>\n",
       "      <td>0.00</td>\n",
       "      <td>“Respect me to the utmost when you see me, tha...</td>\n",
       "    </tr>\n",
       "    <tr>\n",
       "      <td>1</td>\n",
       "      <td>sunny_1747</td>\n",
       "      <td>25.77</td>\n",
       "      <td>1.96</td>\n",
       "      <td>1.96</td>\n",
       "      <td>0.00</td>\n",
       "      <td>0.0</td>\n",
       "      <td>1.96</td>\n",
       "      <td>Once read his interview, you may feel good  ht...</td>\n",
       "    </tr>\n",
       "    <tr>\n",
       "      <td>2</td>\n",
       "      <td>winterdownfall</td>\n",
       "      <td>98.87</td>\n",
       "      <td>5.88</td>\n",
       "      <td>0.00</td>\n",
       "      <td>0.00</td>\n",
       "      <td>0.0</td>\n",
       "      <td>0.00</td>\n",
       "      <td>I feel that. Still hate some mf from middle sc...</td>\n",
       "    </tr>\n",
       "    <tr>\n",
       "      <td>3</td>\n",
       "      <td>scousetilidie</td>\n",
       "      <td>1.00</td>\n",
       "      <td>0.00</td>\n",
       "      <td>10.00</td>\n",
       "      <td>0.00</td>\n",
       "      <td>10.0</td>\n",
       "      <td>0.00</td>\n",
       "      <td>#JeremyVine I feel the teachers and teaching a...</td>\n",
       "    </tr>\n",
       "    <tr>\n",
       "      <td>4</td>\n",
       "      <td>ashwxxn</td>\n",
       "      <td>1.00</td>\n",
       "      <td>0.00</td>\n",
       "      <td>6.90</td>\n",
       "      <td>3.45</td>\n",
       "      <td>0.0</td>\n",
       "      <td>0.00</td>\n",
       "      <td>Well for me I told my mom that it was making m...</td>\n",
       "    </tr>\n",
       "    <tr>\n",
       "      <td>...</td>\n",
       "      <td>...</td>\n",
       "      <td>...</td>\n",
       "      <td>...</td>\n",
       "      <td>...</td>\n",
       "      <td>...</td>\n",
       "      <td>...</td>\n",
       "      <td>...</td>\n",
       "      <td>...</td>\n",
       "    </tr>\n",
       "    <tr>\n",
       "      <td>135734</td>\n",
       "      <td>spain</td>\n",
       "      <td>NaN</td>\n",
       "      <td>NaN</td>\n",
       "      <td>NaN</td>\n",
       "      <td>NaN</td>\n",
       "      <td>NaN</td>\n",
       "      <td>NaN</td>\n",
       "      <td>Chilling out in #Ibiza is very easy. The inten...</td>\n",
       "    </tr>\n",
       "    <tr>\n",
       "      <td>135735</td>\n",
       "      <td>wingsscotparty</td>\n",
       "      <td>NaN</td>\n",
       "      <td>NaN</td>\n",
       "      <td>NaN</td>\n",
       "      <td>NaN</td>\n",
       "      <td>NaN</td>\n",
       "      <td>NaN</td>\n",
       "      <td>Never again.......but with the way things are ...</td>\n",
       "    </tr>\n",
       "    <tr>\n",
       "      <td>135738</td>\n",
       "      <td>djnaves</td>\n",
       "      <td>NaN</td>\n",
       "      <td>NaN</td>\n",
       "      <td>NaN</td>\n",
       "      <td>NaN</td>\n",
       "      <td>NaN</td>\n",
       "      <td>NaN</td>\n",
       "      <td>We feel so privileged to be able to share our ...</td>\n",
       "    </tr>\n",
       "    <tr>\n",
       "      <td>135740</td>\n",
       "      <td>boremo_</td>\n",
       "      <td>NaN</td>\n",
       "      <td>NaN</td>\n",
       "      <td>NaN</td>\n",
       "      <td>NaN</td>\n",
       "      <td>NaN</td>\n",
       "      <td>NaN</td>\n",
       "      <td>Life feels so much better when in a good space...</td>\n",
       "    </tr>\n",
       "    <tr>\n",
       "      <td>135741</td>\n",
       "      <td>tassarlon</td>\n",
       "      <td>NaN</td>\n",
       "      <td>NaN</td>\n",
       "      <td>NaN</td>\n",
       "      <td>NaN</td>\n",
       "      <td>NaN</td>\n",
       "      <td>NaN</td>\n",
       "      <td>(@x_GentleGiant_x)\\n\\nTass hasn’t expected to ...</td>\n",
       "    </tr>\n",
       "  </tbody>\n",
       "</table>\n",
       "<p>135238 rows × 8 columns</p>\n",
       "</div>"
      ],
      "text/plain": [
       "              username   Tone  posemo  negemo   anx  anger   sad  \\\n",
       "0        cjthesmartguy  25.77    0.00    0.00  0.00    0.0  0.00   \n",
       "1           sunny_1747  25.77    1.96    1.96  0.00    0.0  1.96   \n",
       "2       winterdownfall  98.87    5.88    0.00  0.00    0.0  0.00   \n",
       "3        scousetilidie   1.00    0.00   10.00  0.00   10.0  0.00   \n",
       "4              ashwxxn   1.00    0.00    6.90  3.45    0.0  0.00   \n",
       "...                ...    ...     ...     ...   ...    ...   ...   \n",
       "135734           spain    NaN     NaN     NaN   NaN    NaN   NaN   \n",
       "135735  wingsscotparty    NaN     NaN     NaN   NaN    NaN   NaN   \n",
       "135738         djnaves    NaN     NaN     NaN   NaN    NaN   NaN   \n",
       "135740         boremo_    NaN     NaN     NaN   NaN    NaN   NaN   \n",
       "135741       tassarlon    NaN     NaN     NaN   NaN    NaN   NaN   \n",
       "\n",
       "                                                    tweet  \n",
       "0       “Respect me to the utmost when you see me, tha...  \n",
       "1       Once read his interview, you may feel good  ht...  \n",
       "2       I feel that. Still hate some mf from middle sc...  \n",
       "3       #JeremyVine I feel the teachers and teaching a...  \n",
       "4       Well for me I told my mom that it was making m...  \n",
       "...                                                   ...  \n",
       "135734  Chilling out in #Ibiza is very easy. The inten...  \n",
       "135735  Never again.......but with the way things are ...  \n",
       "135738  We feel so privileged to be able to share our ...  \n",
       "135740  Life feels so much better when in a good space...  \n",
       "135741  (@x_GentleGiant_x)\\n\\nTass hasn’t expected to ...  \n",
       "\n",
       "[135238 rows x 8 columns]"
      ]
     },
     "execution_count": 10,
     "metadata": {},
     "output_type": "execute_result"
    }
   ],
   "source": [
    "df3"
   ]
  },
  {
   "cell_type": "code",
   "execution_count": 11,
   "metadata": {},
   "outputs": [
    {
     "data": {
      "text/plain": [
       "51        I want to meet someone who makes me feel the w...\n",
       "264       I feel you on that...  although Dressrosa had ...\n",
       "1292      And thanks to the NHS shutting down, and STILL...\n",
       "1595      Idk why but whenever i feel something ominous ...\n",
       "1988      seeing people have tragic lives or do dumb thi...\n",
       "                                ...                        \n",
       "125286    It feels like you share a psychic bond with so...\n",
       "125541    It feels like you share a psychic bond with so...\n",
       "126821    See backing away and changing their mind is ok...\n",
       "127217                         i feel sick to my stomach yo\n",
       "127293                               I feel u bub ..... °~°\n",
       "Name: tweet, Length: 255, dtype: object"
      ]
     },
     "execution_count": 11,
     "metadata": {},
     "output_type": "execute_result"
    }
   ],
   "source": [
    "df3[df3.sad>20].tweet"
   ]
  },
  {
   "cell_type": "code",
   "execution_count": null,
   "metadata": {},
   "outputs": [],
   "source": []
  },
  {
   "cell_type": "code",
   "execution_count": 12,
   "metadata": {},
   "outputs": [
    {
     "data": {
      "text/html": [
       "<div>\n",
       "<style scoped>\n",
       "    .dataframe tbody tr th:only-of-type {\n",
       "        vertical-align: middle;\n",
       "    }\n",
       "\n",
       "    .dataframe tbody tr th {\n",
       "        vertical-align: top;\n",
       "    }\n",
       "\n",
       "    .dataframe thead th {\n",
       "        text-align: right;\n",
       "    }\n",
       "</style>\n",
       "<table border=\"1\" class=\"dataframe\">\n",
       "  <thead>\n",
       "    <tr style=\"text-align: right;\">\n",
       "      <th></th>\n",
       "      <th>username</th>\n",
       "      <th>Tone</th>\n",
       "      <th>posemo</th>\n",
       "      <th>negemo</th>\n",
       "      <th>anx</th>\n",
       "      <th>anger</th>\n",
       "      <th>sad</th>\n",
       "      <th>tweet</th>\n",
       "    </tr>\n",
       "  </thead>\n",
       "  <tbody>\n",
       "    <tr>\n",
       "      <td>51</td>\n",
       "      <td>jordan67032671</td>\n",
       "      <td>1.00</td>\n",
       "      <td>0.0</td>\n",
       "      <td>33.33</td>\n",
       "      <td>0.0</td>\n",
       "      <td>0.0</td>\n",
       "      <td>33.33</td>\n",
       "      <td>I want to meet someone who makes me feel the w...</td>\n",
       "    </tr>\n",
       "    <tr>\n",
       "      <td>113</td>\n",
       "      <td>NaN</td>\n",
       "      <td>1.00</td>\n",
       "      <td>0.0</td>\n",
       "      <td>16.67</td>\n",
       "      <td>0.0</td>\n",
       "      <td>0.0</td>\n",
       "      <td>16.67</td>\n",
       "      <td>NaN</td>\n",
       "    </tr>\n",
       "    <tr>\n",
       "      <td>245</td>\n",
       "      <td>natekingsoul</td>\n",
       "      <td>1.00</td>\n",
       "      <td>0.0</td>\n",
       "      <td>16.67</td>\n",
       "      <td>0.0</td>\n",
       "      <td>0.0</td>\n",
       "      <td>16.67</td>\n",
       "      <td>Feels like just last week I was seeing ppl twe...</td>\n",
       "    </tr>\n",
       "    <tr>\n",
       "      <td>264</td>\n",
       "      <td>kwtfromnola</td>\n",
       "      <td>1.00</td>\n",
       "      <td>0.0</td>\n",
       "      <td>25.00</td>\n",
       "      <td>0.0</td>\n",
       "      <td>0.0</td>\n",
       "      <td>25.00</td>\n",
       "      <td>I feel you on that...  although Dressrosa had ...</td>\n",
       "    </tr>\n",
       "    <tr>\n",
       "      <td>770</td>\n",
       "      <td>miyaslime</td>\n",
       "      <td>25.77</td>\n",
       "      <td>20.0</td>\n",
       "      <td>20.00</td>\n",
       "      <td>0.0</td>\n",
       "      <td>0.0</td>\n",
       "      <td>20.00</td>\n",
       "      <td>They make you feel like fucking shit and use “...</td>\n",
       "    </tr>\n",
       "    <tr>\n",
       "      <td>...</td>\n",
       "      <td>...</td>\n",
       "      <td>...</td>\n",
       "      <td>...</td>\n",
       "      <td>...</td>\n",
       "      <td>...</td>\n",
       "      <td>...</td>\n",
       "      <td>...</td>\n",
       "      <td>...</td>\n",
       "    </tr>\n",
       "    <tr>\n",
       "      <td>126821</td>\n",
       "      <td>_hiyahannah</td>\n",
       "      <td>1.00</td>\n",
       "      <td>0.0</td>\n",
       "      <td>27.27</td>\n",
       "      <td>0.0</td>\n",
       "      <td>0.0</td>\n",
       "      <td>27.27</td>\n",
       "      <td>See backing away and changing their mind is ok...</td>\n",
       "    </tr>\n",
       "    <tr>\n",
       "      <td>127217</td>\n",
       "      <td>shamiraplainly</td>\n",
       "      <td>1.00</td>\n",
       "      <td>0.0</td>\n",
       "      <td>25.00</td>\n",
       "      <td>0.0</td>\n",
       "      <td>0.0</td>\n",
       "      <td>25.00</td>\n",
       "      <td>i feel sick to my stomach yo</td>\n",
       "    </tr>\n",
       "    <tr>\n",
       "      <td>127293</td>\n",
       "      <td>jikooksdynamite</td>\n",
       "      <td>1.00</td>\n",
       "      <td>0.0</td>\n",
       "      <td>25.00</td>\n",
       "      <td>0.0</td>\n",
       "      <td>0.0</td>\n",
       "      <td>25.00</td>\n",
       "      <td>I feel u bub ..... °~°</td>\n",
       "    </tr>\n",
       "    <tr>\n",
       "      <td>127401</td>\n",
       "      <td>haven_4419</td>\n",
       "      <td>1.00</td>\n",
       "      <td>0.0</td>\n",
       "      <td>20.00</td>\n",
       "      <td>0.0</td>\n",
       "      <td>0.0</td>\n",
       "      <td>20.00</td>\n",
       "      <td>feel betrayed.. Feel useless and feel wanna cr...</td>\n",
       "    </tr>\n",
       "    <tr>\n",
       "      <td>127872</td>\n",
       "      <td>aliraza00719</td>\n",
       "      <td>1.00</td>\n",
       "      <td>0.0</td>\n",
       "      <td>16.67</td>\n",
       "      <td>0.0</td>\n",
       "      <td>0.0</td>\n",
       "      <td>16.67</td>\n",
       "      <td>What did you feel if someone says same words t...</td>\n",
       "    </tr>\n",
       "  </tbody>\n",
       "</table>\n",
       "<p>706 rows × 8 columns</p>\n",
       "</div>"
      ],
      "text/plain": [
       "               username   Tone  posemo  negemo  anx  anger    sad  \\\n",
       "51       jordan67032671   1.00     0.0   33.33  0.0    0.0  33.33   \n",
       "113                 NaN   1.00     0.0   16.67  0.0    0.0  16.67   \n",
       "245        natekingsoul   1.00     0.0   16.67  0.0    0.0  16.67   \n",
       "264         kwtfromnola   1.00     0.0   25.00  0.0    0.0  25.00   \n",
       "770           miyaslime  25.77    20.0   20.00  0.0    0.0  20.00   \n",
       "...                 ...    ...     ...     ...  ...    ...    ...   \n",
       "126821      _hiyahannah   1.00     0.0   27.27  0.0    0.0  27.27   \n",
       "127217   shamiraplainly   1.00     0.0   25.00  0.0    0.0  25.00   \n",
       "127293  jikooksdynamite   1.00     0.0   25.00  0.0    0.0  25.00   \n",
       "127401       haven_4419   1.00     0.0   20.00  0.0    0.0  20.00   \n",
       "127872     aliraza00719   1.00     0.0   16.67  0.0    0.0  16.67   \n",
       "\n",
       "                                                    tweet  \n",
       "51      I want to meet someone who makes me feel the w...  \n",
       "113                                                   NaN  \n",
       "245     Feels like just last week I was seeing ppl twe...  \n",
       "264     I feel you on that...  although Dressrosa had ...  \n",
       "770     They make you feel like fucking shit and use “...  \n",
       "...                                                   ...  \n",
       "126821  See backing away and changing their mind is ok...  \n",
       "127217                       i feel sick to my stomach yo  \n",
       "127293                             I feel u bub ..... °~°  \n",
       "127401  feel betrayed.. Feel useless and feel wanna cr...  \n",
       "127872  What did you feel if someone says same words t...  \n",
       "\n",
       "[706 rows x 8 columns]"
      ]
     },
     "execution_count": 12,
     "metadata": {},
     "output_type": "execute_result"
    }
   ],
   "source": [
    "df3[df3.sad>15]"
   ]
  },
  {
   "cell_type": "code",
   "execution_count": 13,
   "metadata": {},
   "outputs": [],
   "source": [
    "lonely_data=df3"
   ]
  },
  {
   "cell_type": "code",
   "execution_count": 14,
   "metadata": {},
   "outputs": [],
   "source": [
    "lonely_data= lonely_data[['username','Tone', 'posemo', 'negemo', 'anx', 'anger', 'sad', 'tweet']]"
   ]
  },
  {
   "cell_type": "code",
   "execution_count": 15,
   "metadata": {},
   "outputs": [],
   "source": [
    "final_data=lonely_data.dropna(axis=0)"
   ]
  },
  {
   "cell_type": "code",
   "execution_count": 16,
   "metadata": {},
   "outputs": [
    {
     "data": {
      "text/html": [
       "<div>\n",
       "<style scoped>\n",
       "    .dataframe tbody tr th:only-of-type {\n",
       "        vertical-align: middle;\n",
       "    }\n",
       "\n",
       "    .dataframe tbody tr th {\n",
       "        vertical-align: top;\n",
       "    }\n",
       "\n",
       "    .dataframe thead th {\n",
       "        text-align: right;\n",
       "    }\n",
       "</style>\n",
       "<table border=\"1\" class=\"dataframe\">\n",
       "  <thead>\n",
       "    <tr style=\"text-align: right;\">\n",
       "      <th></th>\n",
       "      <th>username</th>\n",
       "      <th>Tone</th>\n",
       "      <th>posemo</th>\n",
       "      <th>negemo</th>\n",
       "      <th>anx</th>\n",
       "      <th>anger</th>\n",
       "      <th>sad</th>\n",
       "      <th>tweet</th>\n",
       "    </tr>\n",
       "  </thead>\n",
       "  <tbody>\n",
       "    <tr>\n",
       "      <td>0</td>\n",
       "      <td>cjthesmartguy</td>\n",
       "      <td>25.77</td>\n",
       "      <td>0.00</td>\n",
       "      <td>0.00</td>\n",
       "      <td>0.00</td>\n",
       "      <td>0.00</td>\n",
       "      <td>0.00</td>\n",
       "      <td>“Respect me to the utmost when you see me, tha...</td>\n",
       "    </tr>\n",
       "    <tr>\n",
       "      <td>1</td>\n",
       "      <td>sunny_1747</td>\n",
       "      <td>25.77</td>\n",
       "      <td>1.96</td>\n",
       "      <td>1.96</td>\n",
       "      <td>0.00</td>\n",
       "      <td>0.00</td>\n",
       "      <td>1.96</td>\n",
       "      <td>Once read his interview, you may feel good  ht...</td>\n",
       "    </tr>\n",
       "    <tr>\n",
       "      <td>2</td>\n",
       "      <td>winterdownfall</td>\n",
       "      <td>98.87</td>\n",
       "      <td>5.88</td>\n",
       "      <td>0.00</td>\n",
       "      <td>0.00</td>\n",
       "      <td>0.00</td>\n",
       "      <td>0.00</td>\n",
       "      <td>I feel that. Still hate some mf from middle sc...</td>\n",
       "    </tr>\n",
       "    <tr>\n",
       "      <td>3</td>\n",
       "      <td>scousetilidie</td>\n",
       "      <td>1.00</td>\n",
       "      <td>0.00</td>\n",
       "      <td>10.00</td>\n",
       "      <td>0.00</td>\n",
       "      <td>10.00</td>\n",
       "      <td>0.00</td>\n",
       "      <td>#JeremyVine I feel the teachers and teaching a...</td>\n",
       "    </tr>\n",
       "    <tr>\n",
       "      <td>4</td>\n",
       "      <td>ashwxxn</td>\n",
       "      <td>1.00</td>\n",
       "      <td>0.00</td>\n",
       "      <td>6.90</td>\n",
       "      <td>3.45</td>\n",
       "      <td>0.00</td>\n",
       "      <td>0.00</td>\n",
       "      <td>Well for me I told my mom that it was making m...</td>\n",
       "    </tr>\n",
       "    <tr>\n",
       "      <td>...</td>\n",
       "      <td>...</td>\n",
       "      <td>...</td>\n",
       "      <td>...</td>\n",
       "      <td>...</td>\n",
       "      <td>...</td>\n",
       "      <td>...</td>\n",
       "      <td>...</td>\n",
       "      <td>...</td>\n",
       "    </tr>\n",
       "    <tr>\n",
       "      <td>128164</td>\n",
       "      <td>bitchaarie</td>\n",
       "      <td>1.00</td>\n",
       "      <td>2.27</td>\n",
       "      <td>6.82</td>\n",
       "      <td>0.00</td>\n",
       "      <td>2.27</td>\n",
       "      <td>2.27</td>\n",
       "      <td>Damn my ***** actually feels sad I’m not kiddi...</td>\n",
       "    </tr>\n",
       "    <tr>\n",
       "      <td>128166</td>\n",
       "      <td>valerie47728456</td>\n",
       "      <td>99.00</td>\n",
       "      <td>8.70</td>\n",
       "      <td>0.00</td>\n",
       "      <td>0.00</td>\n",
       "      <td>0.00</td>\n",
       "      <td>0.00</td>\n",
       "      <td>of+a+steel+sky.+Somehow+Arthur+feels+very,+ver...</td>\n",
       "    </tr>\n",
       "    <tr>\n",
       "      <td>128168</td>\n",
       "      <td>suzuacnh</td>\n",
       "      <td>99.00</td>\n",
       "      <td>15.69</td>\n",
       "      <td>0.00</td>\n",
       "      <td>0.00</td>\n",
       "      <td>0.00</td>\n",
       "      <td>0.00</td>\n",
       "      <td>missed you too prin, i still feel sick 😔</td>\n",
       "    </tr>\n",
       "    <tr>\n",
       "      <td>128169</td>\n",
       "      <td>sinnerykth</td>\n",
       "      <td>99.00</td>\n",
       "      <td>11.76</td>\n",
       "      <td>0.00</td>\n",
       "      <td>0.00</td>\n",
       "      <td>0.00</td>\n",
       "      <td>0.00</td>\n",
       "      <td>guess who made lockscreens after ages ? &lt;3\\n\\n...</td>\n",
       "    </tr>\n",
       "    <tr>\n",
       "      <td>128170</td>\n",
       "      <td>ruthrobinsonlon</td>\n",
       "      <td>25.77</td>\n",
       "      <td>0.00</td>\n",
       "      <td>0.00</td>\n",
       "      <td>0.00</td>\n",
       "      <td>0.00</td>\n",
       "      <td>0.00</td>\n",
       "      <td>I’d like to see that. It would make me feel sl...</td>\n",
       "    </tr>\n",
       "  </tbody>\n",
       "</table>\n",
       "<p>120768 rows × 8 columns</p>\n",
       "</div>"
      ],
      "text/plain": [
       "               username   Tone  posemo  negemo   anx  anger   sad  \\\n",
       "0         cjthesmartguy  25.77    0.00    0.00  0.00   0.00  0.00   \n",
       "1            sunny_1747  25.77    1.96    1.96  0.00   0.00  1.96   \n",
       "2        winterdownfall  98.87    5.88    0.00  0.00   0.00  0.00   \n",
       "3         scousetilidie   1.00    0.00   10.00  0.00  10.00  0.00   \n",
       "4               ashwxxn   1.00    0.00    6.90  3.45   0.00  0.00   \n",
       "...                 ...    ...     ...     ...   ...    ...   ...   \n",
       "128164       bitchaarie   1.00    2.27    6.82  0.00   2.27  2.27   \n",
       "128166  valerie47728456  99.00    8.70    0.00  0.00   0.00  0.00   \n",
       "128168         suzuacnh  99.00   15.69    0.00  0.00   0.00  0.00   \n",
       "128169       sinnerykth  99.00   11.76    0.00  0.00   0.00  0.00   \n",
       "128170  ruthrobinsonlon  25.77    0.00    0.00  0.00   0.00  0.00   \n",
       "\n",
       "                                                    tweet  \n",
       "0       “Respect me to the utmost when you see me, tha...  \n",
       "1       Once read his interview, you may feel good  ht...  \n",
       "2       I feel that. Still hate some mf from middle sc...  \n",
       "3       #JeremyVine I feel the teachers and teaching a...  \n",
       "4       Well for me I told my mom that it was making m...  \n",
       "...                                                   ...  \n",
       "128164  Damn my ***** actually feels sad I’m not kiddi...  \n",
       "128166  of+a+steel+sky.+Somehow+Arthur+feels+very,+ver...  \n",
       "128168           missed you too prin, i still feel sick 😔  \n",
       "128169  guess who made lockscreens after ages ? <3\\n\\n...  \n",
       "128170  I’d like to see that. It would make me feel sl...  \n",
       "\n",
       "[120768 rows x 8 columns]"
      ]
     },
     "execution_count": 16,
     "metadata": {},
     "output_type": "execute_result"
    }
   ],
   "source": [
    "final_data"
   ]
  },
  {
   "cell_type": "code",
   "execution_count": null,
   "metadata": {},
   "outputs": [],
   "source": []
  },
  {
   "cell_type": "code",
   "execution_count": 17,
   "metadata": {},
   "outputs": [],
   "source": [
    "import string\n",
    "sw_list = stopwords.words('english')\n",
    "sw_list += list(string.punctuation)\n",
    "sw_list += [\"''\", '\"\"', '...', '``', '’', '“', '’', '”', '‘', '‘', '©', '#', '@', \n",
    "            'said', 'one', 'com', '-', '–', '—', ' ', 'bizpacreview', 'ccya4ewhiyi' ,'8bkua22xbjnl']\n",
    "sw_list += ['www', 'the', 'to', 'and', 'a', 's', 't','is', 'you', 'of', 'i', 'u'\n",
    "            'in', 'this', 'are', 'it', 'for', 'https', 'com', 'twitter']\n",
    "sw_list += [str(x) for x in range(100)]\n",
    "sw_list += [int(x) for x in range(100)]\n",
    "sw_set = set(sw_list)"
   ]
  },
  {
   "cell_type": "code",
   "execution_count": 18,
   "metadata": {},
   "outputs": [],
   "source": [
    "#using tf_idf vectorizer\n",
    "tfidf = TfidfVectorizer(stop_words=sw_set, ngram_range=(1,1), lowercase=True)\n",
    "# tfidf_data_train_lem = tfidf.fit_transform()\n",
    "answer = tfidf.fit_transform(final_data['tweet'])"
   ]
  },
  {
   "cell_type": "code",
   "execution_count": 19,
   "metadata": {},
   "outputs": [
    {
     "data": {
      "text/plain": [
       "<120768x97072 sparse matrix of type '<class 'numpy.float64'>'\n",
       "\twith 1452030 stored elements in Compressed Sparse Row format>"
      ]
     },
     "execution_count": 19,
     "metadata": {},
     "output_type": "execute_result"
    }
   ],
   "source": [
    "answer"
   ]
  },
  {
   "cell_type": "code",
   "execution_count": 20,
   "metadata": {},
   "outputs": [
    {
     "data": {
      "text/html": [
       "<div>\n",
       "<style scoped>\n",
       "    .dataframe tbody tr th:only-of-type {\n",
       "        vertical-align: middle;\n",
       "    }\n",
       "\n",
       "    .dataframe tbody tr th {\n",
       "        vertical-align: top;\n",
       "    }\n",
       "\n",
       "    .dataframe thead th {\n",
       "        text-align: right;\n",
       "    }\n",
       "</style>\n",
       "<table border=\"1\" class=\"dataframe\">\n",
       "  <thead>\n",
       "    <tr style=\"text-align: right;\">\n",
       "      <th></th>\n",
       "      <th>00</th>\n",
       "      <th>000</th>\n",
       "      <th>0000000006</th>\n",
       "      <th>0001</th>\n",
       "      <th>00027</th>\n",
       "      <th>000exbmcoe</th>\n",
       "      <th>000ft</th>\n",
       "      <th>000th</th>\n",
       "      <th>000x</th>\n",
       "      <th>001</th>\n",
       "      <th>...</th>\n",
       "      <th>𝙬𝙤𝙧𝙡𝙙</th>\n",
       "      <th>𝙬𝙧𝙤𝙣𝙜</th>\n",
       "      <th>𝚊𝚗𝚘𝚗</th>\n",
       "      <th>𝚏𝚛𝚘𝚖</th>\n",
       "      <th>𝟐𝟎𝟎𝟖𝟐𝟔</th>\n",
       "      <th>𝟖𝟐𝟎𝟖𝟑𝟔𝟖𝟕𝟔𝟔</th>\n",
       "      <th>𝟗𝟏</th>\n",
       "      <th>𝟲𝟳𝟮𝟳𝟳</th>\n",
       "      <th>𝟴𝟴𝟮𝟰𝟰</th>\n",
       "      <th>𝟵𝟭</th>\n",
       "    </tr>\n",
       "  </thead>\n",
       "  <tbody>\n",
       "    <tr>\n",
       "      <td>0</td>\n",
       "      <td>0.0</td>\n",
       "      <td>0.0</td>\n",
       "      <td>0.0</td>\n",
       "      <td>0.0</td>\n",
       "      <td>0.0</td>\n",
       "      <td>0.0</td>\n",
       "      <td>0.0</td>\n",
       "      <td>0.0</td>\n",
       "      <td>0.0</td>\n",
       "      <td>0.0</td>\n",
       "      <td>...</td>\n",
       "      <td>0.0</td>\n",
       "      <td>0.0</td>\n",
       "      <td>0.0</td>\n",
       "      <td>0.0</td>\n",
       "      <td>0.0</td>\n",
       "      <td>0.0</td>\n",
       "      <td>0.0</td>\n",
       "      <td>0.0</td>\n",
       "      <td>0.0</td>\n",
       "      <td>0.0</td>\n",
       "    </tr>\n",
       "    <tr>\n",
       "      <td>1</td>\n",
       "      <td>0.0</td>\n",
       "      <td>0.0</td>\n",
       "      <td>0.0</td>\n",
       "      <td>0.0</td>\n",
       "      <td>0.0</td>\n",
       "      <td>0.0</td>\n",
       "      <td>0.0</td>\n",
       "      <td>0.0</td>\n",
       "      <td>0.0</td>\n",
       "      <td>0.0</td>\n",
       "      <td>...</td>\n",
       "      <td>0.0</td>\n",
       "      <td>0.0</td>\n",
       "      <td>0.0</td>\n",
       "      <td>0.0</td>\n",
       "      <td>0.0</td>\n",
       "      <td>0.0</td>\n",
       "      <td>0.0</td>\n",
       "      <td>0.0</td>\n",
       "      <td>0.0</td>\n",
       "      <td>0.0</td>\n",
       "    </tr>\n",
       "    <tr>\n",
       "      <td>2</td>\n",
       "      <td>0.0</td>\n",
       "      <td>0.0</td>\n",
       "      <td>0.0</td>\n",
       "      <td>0.0</td>\n",
       "      <td>0.0</td>\n",
       "      <td>0.0</td>\n",
       "      <td>0.0</td>\n",
       "      <td>0.0</td>\n",
       "      <td>0.0</td>\n",
       "      <td>0.0</td>\n",
       "      <td>...</td>\n",
       "      <td>0.0</td>\n",
       "      <td>0.0</td>\n",
       "      <td>0.0</td>\n",
       "      <td>0.0</td>\n",
       "      <td>0.0</td>\n",
       "      <td>0.0</td>\n",
       "      <td>0.0</td>\n",
       "      <td>0.0</td>\n",
       "      <td>0.0</td>\n",
       "      <td>0.0</td>\n",
       "    </tr>\n",
       "    <tr>\n",
       "      <td>3</td>\n",
       "      <td>0.0</td>\n",
       "      <td>0.0</td>\n",
       "      <td>0.0</td>\n",
       "      <td>0.0</td>\n",
       "      <td>0.0</td>\n",
       "      <td>0.0</td>\n",
       "      <td>0.0</td>\n",
       "      <td>0.0</td>\n",
       "      <td>0.0</td>\n",
       "      <td>0.0</td>\n",
       "      <td>...</td>\n",
       "      <td>0.0</td>\n",
       "      <td>0.0</td>\n",
       "      <td>0.0</td>\n",
       "      <td>0.0</td>\n",
       "      <td>0.0</td>\n",
       "      <td>0.0</td>\n",
       "      <td>0.0</td>\n",
       "      <td>0.0</td>\n",
       "      <td>0.0</td>\n",
       "      <td>0.0</td>\n",
       "    </tr>\n",
       "    <tr>\n",
       "      <td>4</td>\n",
       "      <td>0.0</td>\n",
       "      <td>0.0</td>\n",
       "      <td>0.0</td>\n",
       "      <td>0.0</td>\n",
       "      <td>0.0</td>\n",
       "      <td>0.0</td>\n",
       "      <td>0.0</td>\n",
       "      <td>0.0</td>\n",
       "      <td>0.0</td>\n",
       "      <td>0.0</td>\n",
       "      <td>...</td>\n",
       "      <td>0.0</td>\n",
       "      <td>0.0</td>\n",
       "      <td>0.0</td>\n",
       "      <td>0.0</td>\n",
       "      <td>0.0</td>\n",
       "      <td>0.0</td>\n",
       "      <td>0.0</td>\n",
       "      <td>0.0</td>\n",
       "      <td>0.0</td>\n",
       "      <td>0.0</td>\n",
       "    </tr>\n",
       "    <tr>\n",
       "      <td>...</td>\n",
       "      <td>...</td>\n",
       "      <td>...</td>\n",
       "      <td>...</td>\n",
       "      <td>...</td>\n",
       "      <td>...</td>\n",
       "      <td>...</td>\n",
       "      <td>...</td>\n",
       "      <td>...</td>\n",
       "      <td>...</td>\n",
       "      <td>...</td>\n",
       "      <td>...</td>\n",
       "      <td>...</td>\n",
       "      <td>...</td>\n",
       "      <td>...</td>\n",
       "      <td>...</td>\n",
       "      <td>...</td>\n",
       "      <td>...</td>\n",
       "      <td>...</td>\n",
       "      <td>...</td>\n",
       "      <td>...</td>\n",
       "      <td>...</td>\n",
       "    </tr>\n",
       "    <tr>\n",
       "      <td>120763</td>\n",
       "      <td>0.0</td>\n",
       "      <td>0.0</td>\n",
       "      <td>0.0</td>\n",
       "      <td>0.0</td>\n",
       "      <td>0.0</td>\n",
       "      <td>0.0</td>\n",
       "      <td>0.0</td>\n",
       "      <td>0.0</td>\n",
       "      <td>0.0</td>\n",
       "      <td>0.0</td>\n",
       "      <td>...</td>\n",
       "      <td>0.0</td>\n",
       "      <td>0.0</td>\n",
       "      <td>0.0</td>\n",
       "      <td>0.0</td>\n",
       "      <td>0.0</td>\n",
       "      <td>0.0</td>\n",
       "      <td>0.0</td>\n",
       "      <td>0.0</td>\n",
       "      <td>0.0</td>\n",
       "      <td>0.0</td>\n",
       "    </tr>\n",
       "    <tr>\n",
       "      <td>120764</td>\n",
       "      <td>0.0</td>\n",
       "      <td>0.0</td>\n",
       "      <td>0.0</td>\n",
       "      <td>0.0</td>\n",
       "      <td>0.0</td>\n",
       "      <td>0.0</td>\n",
       "      <td>0.0</td>\n",
       "      <td>0.0</td>\n",
       "      <td>0.0</td>\n",
       "      <td>0.0</td>\n",
       "      <td>...</td>\n",
       "      <td>0.0</td>\n",
       "      <td>0.0</td>\n",
       "      <td>0.0</td>\n",
       "      <td>0.0</td>\n",
       "      <td>0.0</td>\n",
       "      <td>0.0</td>\n",
       "      <td>0.0</td>\n",
       "      <td>0.0</td>\n",
       "      <td>0.0</td>\n",
       "      <td>0.0</td>\n",
       "    </tr>\n",
       "    <tr>\n",
       "      <td>120765</td>\n",
       "      <td>0.0</td>\n",
       "      <td>0.0</td>\n",
       "      <td>0.0</td>\n",
       "      <td>0.0</td>\n",
       "      <td>0.0</td>\n",
       "      <td>0.0</td>\n",
       "      <td>0.0</td>\n",
       "      <td>0.0</td>\n",
       "      <td>0.0</td>\n",
       "      <td>0.0</td>\n",
       "      <td>...</td>\n",
       "      <td>0.0</td>\n",
       "      <td>0.0</td>\n",
       "      <td>0.0</td>\n",
       "      <td>0.0</td>\n",
       "      <td>0.0</td>\n",
       "      <td>0.0</td>\n",
       "      <td>0.0</td>\n",
       "      <td>0.0</td>\n",
       "      <td>0.0</td>\n",
       "      <td>0.0</td>\n",
       "    </tr>\n",
       "    <tr>\n",
       "      <td>120766</td>\n",
       "      <td>0.0</td>\n",
       "      <td>0.0</td>\n",
       "      <td>0.0</td>\n",
       "      <td>0.0</td>\n",
       "      <td>0.0</td>\n",
       "      <td>0.0</td>\n",
       "      <td>0.0</td>\n",
       "      <td>0.0</td>\n",
       "      <td>0.0</td>\n",
       "      <td>0.0</td>\n",
       "      <td>...</td>\n",
       "      <td>0.0</td>\n",
       "      <td>0.0</td>\n",
       "      <td>0.0</td>\n",
       "      <td>0.0</td>\n",
       "      <td>0.0</td>\n",
       "      <td>0.0</td>\n",
       "      <td>0.0</td>\n",
       "      <td>0.0</td>\n",
       "      <td>0.0</td>\n",
       "      <td>0.0</td>\n",
       "    </tr>\n",
       "    <tr>\n",
       "      <td>120767</td>\n",
       "      <td>0.0</td>\n",
       "      <td>0.0</td>\n",
       "      <td>0.0</td>\n",
       "      <td>0.0</td>\n",
       "      <td>0.0</td>\n",
       "      <td>0.0</td>\n",
       "      <td>0.0</td>\n",
       "      <td>0.0</td>\n",
       "      <td>0.0</td>\n",
       "      <td>0.0</td>\n",
       "      <td>...</td>\n",
       "      <td>0.0</td>\n",
       "      <td>0.0</td>\n",
       "      <td>0.0</td>\n",
       "      <td>0.0</td>\n",
       "      <td>0.0</td>\n",
       "      <td>0.0</td>\n",
       "      <td>0.0</td>\n",
       "      <td>0.0</td>\n",
       "      <td>0.0</td>\n",
       "      <td>0.0</td>\n",
       "    </tr>\n",
       "  </tbody>\n",
       "</table>\n",
       "<p>120768 rows × 97072 columns</p>\n",
       "</div>"
      ],
      "text/plain": [
       "         00  000  0000000006  0001  00027  000exbmcoe  000ft  000th  000x  \\\n",
       "0       0.0  0.0         0.0   0.0    0.0         0.0    0.0    0.0   0.0   \n",
       "1       0.0  0.0         0.0   0.0    0.0         0.0    0.0    0.0   0.0   \n",
       "2       0.0  0.0         0.0   0.0    0.0         0.0    0.0    0.0   0.0   \n",
       "3       0.0  0.0         0.0   0.0    0.0         0.0    0.0    0.0   0.0   \n",
       "4       0.0  0.0         0.0   0.0    0.0         0.0    0.0    0.0   0.0   \n",
       "...     ...  ...         ...   ...    ...         ...    ...    ...   ...   \n",
       "120763  0.0  0.0         0.0   0.0    0.0         0.0    0.0    0.0   0.0   \n",
       "120764  0.0  0.0         0.0   0.0    0.0         0.0    0.0    0.0   0.0   \n",
       "120765  0.0  0.0         0.0   0.0    0.0         0.0    0.0    0.0   0.0   \n",
       "120766  0.0  0.0         0.0   0.0    0.0         0.0    0.0    0.0   0.0   \n",
       "120767  0.0  0.0         0.0   0.0    0.0         0.0    0.0    0.0   0.0   \n",
       "\n",
       "        001  ...  𝙬𝙤𝙧𝙡𝙙  𝙬𝙧𝙤𝙣𝙜  𝚊𝚗𝚘𝚗  𝚏𝚛𝚘𝚖  𝟐𝟎𝟎𝟖𝟐𝟔  𝟖𝟐𝟎𝟖𝟑𝟔𝟖𝟕𝟔𝟔   𝟗𝟏  𝟲𝟳𝟮𝟳𝟳  \\\n",
       "0       0.0  ...    0.0    0.0   0.0   0.0     0.0         0.0  0.0    0.0   \n",
       "1       0.0  ...    0.0    0.0   0.0   0.0     0.0         0.0  0.0    0.0   \n",
       "2       0.0  ...    0.0    0.0   0.0   0.0     0.0         0.0  0.0    0.0   \n",
       "3       0.0  ...    0.0    0.0   0.0   0.0     0.0         0.0  0.0    0.0   \n",
       "4       0.0  ...    0.0    0.0   0.0   0.0     0.0         0.0  0.0    0.0   \n",
       "...     ...  ...    ...    ...   ...   ...     ...         ...  ...    ...   \n",
       "120763  0.0  ...    0.0    0.0   0.0   0.0     0.0         0.0  0.0    0.0   \n",
       "120764  0.0  ...    0.0    0.0   0.0   0.0     0.0         0.0  0.0    0.0   \n",
       "120765  0.0  ...    0.0    0.0   0.0   0.0     0.0         0.0  0.0    0.0   \n",
       "120766  0.0  ...    0.0    0.0   0.0   0.0     0.0         0.0  0.0    0.0   \n",
       "120767  0.0  ...    0.0    0.0   0.0   0.0     0.0         0.0  0.0    0.0   \n",
       "\n",
       "        𝟴𝟴𝟮𝟰𝟰   𝟵𝟭  \n",
       "0         0.0  0.0  \n",
       "1         0.0  0.0  \n",
       "2         0.0  0.0  \n",
       "3         0.0  0.0  \n",
       "4         0.0  0.0  \n",
       "...       ...  ...  \n",
       "120763    0.0  0.0  \n",
       "120764    0.0  0.0  \n",
       "120765    0.0  0.0  \n",
       "120766    0.0  0.0  \n",
       "120767    0.0  0.0  \n",
       "\n",
       "[120768 rows x 97072 columns]"
      ]
     },
     "execution_count": 20,
     "metadata": {},
     "output_type": "execute_result"
    }
   ],
   "source": [
    "df_wordvec = pd.DataFrame(answer.todense(), columns = tfidf.get_feature_names())\n",
    "df_wordvec"
   ]
  },
  {
   "cell_type": "code",
   "execution_count": 21,
   "metadata": {},
   "outputs": [
    {
     "name": "stderr",
     "output_type": "stream",
     "text": [
      "/Users/jeffreyng/anaconda3/lib/python3.7/site-packages/ipykernel_launcher.py:5: SettingWithCopyWarning: \n",
      "A value is trying to be set on a copy of a slice from a DataFrame.\n",
      "Try using .loc[row_indexer,col_indexer] = value instead\n",
      "\n",
      "See the caveats in the documentation: http://pandas.pydata.org/pandas-docs/stable/user_guide/indexing.html#returning-a-view-versus-a-copy\n",
      "  \"\"\"\n"
     ]
    }
   ],
   "source": [
    "# Mapped Vader scores to integer counts for easier manipulation \n",
    "col         = 'sad'\n",
    "conditions  = [ final_data[col] >= 5, (final_data[col] < 5)]\n",
    "choices     = [ 1, 0 ]\n",
    "final_data[\"target\"] = np.select(conditions, choices, default=np.nan)            \n"
   ]
  },
  {
   "cell_type": "code",
   "execution_count": 22,
   "metadata": {},
   "outputs": [
    {
     "data": {
      "text/plain": [
       "<matplotlib.axes._subplots.AxesSubplot at 0x7ff2321f8d50>"
      ]
     },
     "execution_count": 22,
     "metadata": {},
     "output_type": "execute_result"
    },
    {
     "data": {
      "image/png": "[encoded data removed]",
      "text/plain": [
       "<Figure size 432x288 with 1 Axes>"
      ]
     },
     "metadata": {
      "needs_background": "light"
     },
     "output_type": "display_data"
    }
   ],
   "source": [
    "sns.barplot(x=['depressed', 'not depressed'], y=[final_data['target'].value_counts()[1], final_data['target'].value_counts()[0]])"
   ]
  },
  {
   "cell_type": "code",
   "execution_count": 23,
   "metadata": {},
   "outputs": [],
   "source": [
    "def NLP_process(data):\n",
    "    BoW=[]\n",
    "    for word in data:\n",
    "        BoW.append(word)\n",
    "    word_bank= ' '.join(BoW)\n",
    "    word_bank= word_bank.lower()\n",
    "#     from nltk.tokenize import RegexpTokenizer\n",
    "    tokenizer = RegexpTokenizer(r'[a-zA-Z]+')\n",
    "    tokenized_tweets= tokenizer.tokenize(word_bank)\n",
    "\n",
    "    sw_list = stopwords.words('english')\n",
    "    sw_list += list(string.punctuation)\n",
    "    sw_list += [\"''\", '\"\"', '...', '``', '’', '“', '’', '”', '‘', '‘', '©', '#', '@', \n",
    "            'said', 'one', 'com', '-', '–', '—', '.']\n",
    "    sw_list += ['www', 'the', 'to', 'and', 'a', 's', 't','is', 'you', 'of', 'i', \n",
    "            'in', 'this', 'are', 'it', 'for', 'https', 'com', 'twitter', 'alllivesmatter' , \n",
    "            'blacklivesmatter' , 'bluelivesmatter', 'p', 'status', 'feel']\n",
    "    sw_set = set(sw_list)\n",
    "    filtered_tweets=[]\n",
    "    for word in tokenized_tweets:\n",
    "        if word not in sw_set:\n",
    "            filtered_tweets.append(word)\n",
    "#     \n",
    "    lemmatizer=WordNetLemmatizer()\n",
    "    X_lemmatized_tweets=[]\n",
    "    for w in filtered_tweets:\n",
    "        X_lemmatized_tweets.append(lemmatizer.lemmatize(w))\n",
    "    return (X_lemmatized_tweets)"
   ]
  },
  {
   "cell_type": "code",
   "execution_count": 24,
   "metadata": {},
   "outputs": [],
   "source": [
    "z=NLP_process(final_data['tweet'])\n"
   ]
  },
  {
   "cell_type": "code",
   "execution_count": 25,
   "metadata": {},
   "outputs": [
    {
     "data": {
      "image/png": "[encoded data removed]",
      "text/plain": [
       "<Figure size 720x720 with 1 Axes>"
      ]
     },
     "metadata": {
      "needs_background": "light"
     },
     "output_type": "display_data"
    },
    {
     "data": {
      "text/plain": [
       "<matplotlib.axes._subplots.AxesSubplot at 0x7ff22ff64d10>"
      ]
     },
     "execution_count": 25,
     "metadata": {},
     "output_type": "execute_result"
    }
   ],
   "source": [
    "fdist=FreqDist(z)\n",
    "plt.figure(figsize=(10,10))\n",
    "fdist.plot(35)"
   ]
  },
  {
   "cell_type": "code",
   "execution_count": 26,
   "metadata": {},
   "outputs": [
    {
     "data": {
      "text/html": [
       "<div>\n",
       "<style scoped>\n",
       "    .dataframe tbody tr th:only-of-type {\n",
       "        vertical-align: middle;\n",
       "    }\n",
       "\n",
       "    .dataframe tbody tr th {\n",
       "        vertical-align: top;\n",
       "    }\n",
       "\n",
       "    .dataframe thead th {\n",
       "        text-align: right;\n",
       "    }\n",
       "</style>\n",
       "<table border=\"1\" class=\"dataframe\">\n",
       "  <thead>\n",
       "    <tr style=\"text-align: right;\">\n",
       "      <th></th>\n",
       "      <th>username</th>\n",
       "      <th>Tone</th>\n",
       "      <th>posemo</th>\n",
       "      <th>negemo</th>\n",
       "      <th>anx</th>\n",
       "      <th>anger</th>\n",
       "      <th>sad</th>\n",
       "      <th>tweet</th>\n",
       "      <th>target</th>\n",
       "    </tr>\n",
       "  </thead>\n",
       "  <tbody>\n",
       "    <tr>\n",
       "      <td>30</td>\n",
       "      <td>karinaursua</td>\n",
       "      <td>1.00</td>\n",
       "      <td>0.00</td>\n",
       "      <td>8.33</td>\n",
       "      <td>0.00</td>\n",
       "      <td>0.0</td>\n",
       "      <td>8.33</td>\n",
       "      <td>im drunk but not drunk feel me</td>\n",
       "      <td>1.0</td>\n",
       "    </tr>\n",
       "    <tr>\n",
       "      <td>38</td>\n",
       "      <td>peanut_crunch</td>\n",
       "      <td>2.30</td>\n",
       "      <td>5.41</td>\n",
       "      <td>8.11</td>\n",
       "      <td>0.00</td>\n",
       "      <td>0.0</td>\n",
       "      <td>8.11</td>\n",
       "      <td>Finishing #InfinityTrainBook3.  We just saw Gr...</td>\n",
       "      <td>1.0</td>\n",
       "    </tr>\n",
       "    <tr>\n",
       "      <td>51</td>\n",
       "      <td>jordan67032671</td>\n",
       "      <td>1.00</td>\n",
       "      <td>0.00</td>\n",
       "      <td>33.33</td>\n",
       "      <td>0.00</td>\n",
       "      <td>0.0</td>\n",
       "      <td>33.33</td>\n",
       "      <td>I want to meet someone who makes me feel the w...</td>\n",
       "      <td>1.0</td>\n",
       "    </tr>\n",
       "    <tr>\n",
       "      <td>60</td>\n",
       "      <td>artnikay</td>\n",
       "      <td>99.00</td>\n",
       "      <td>15.00</td>\n",
       "      <td>5.00</td>\n",
       "      <td>5.00</td>\n",
       "      <td>0.0</td>\n",
       "      <td>5.00</td>\n",
       "      <td>yep huhu writing on paper feels good, idk why ...</td>\n",
       "      <td>1.0</td>\n",
       "    </tr>\n",
       "    <tr>\n",
       "      <td>64</td>\n",
       "      <td>bettleroni1</td>\n",
       "      <td>1.00</td>\n",
       "      <td>0.00</td>\n",
       "      <td>14.29</td>\n",
       "      <td>0.00</td>\n",
       "      <td>0.0</td>\n",
       "      <td>14.29</td>\n",
       "      <td>I feel like I should go more often to the gym👀</td>\n",
       "      <td>1.0</td>\n",
       "    </tr>\n",
       "    <tr>\n",
       "      <td>...</td>\n",
       "      <td>...</td>\n",
       "      <td>...</td>\n",
       "      <td>...</td>\n",
       "      <td>...</td>\n",
       "      <td>...</td>\n",
       "      <td>...</td>\n",
       "      <td>...</td>\n",
       "      <td>...</td>\n",
       "      <td>...</td>\n",
       "    </tr>\n",
       "    <tr>\n",
       "      <td>127728</td>\n",
       "      <td>alaskafkngreen</td>\n",
       "      <td>25.77</td>\n",
       "      <td>5.56</td>\n",
       "      <td>5.56</td>\n",
       "      <td>0.00</td>\n",
       "      <td>0.0</td>\n",
       "      <td>5.56</td>\n",
       "      <td>you’ll always feel like my soulmate even if we...</td>\n",
       "      <td>1.0</td>\n",
       "    </tr>\n",
       "    <tr>\n",
       "      <td>127821</td>\n",
       "      <td>teamyoutube</td>\n",
       "      <td>25.77</td>\n",
       "      <td>6.25</td>\n",
       "      <td>6.25</td>\n",
       "      <td>0.00</td>\n",
       "      <td>0.0</td>\n",
       "      <td>6.25</td>\n",
       "      <td>Since you've already appealed the suspension o...</td>\n",
       "      <td>1.0</td>\n",
       "    </tr>\n",
       "    <tr>\n",
       "      <td>127872</td>\n",
       "      <td>aliraza00719</td>\n",
       "      <td>1.00</td>\n",
       "      <td>0.00</td>\n",
       "      <td>16.67</td>\n",
       "      <td>0.00</td>\n",
       "      <td>0.0</td>\n",
       "      <td>16.67</td>\n",
       "      <td>What did you feel if someone says same words t...</td>\n",
       "      <td>1.0</td>\n",
       "    </tr>\n",
       "    <tr>\n",
       "      <td>127896</td>\n",
       "      <td>melissa59060863</td>\n",
       "      <td>1.00</td>\n",
       "      <td>7.14</td>\n",
       "      <td>14.29</td>\n",
       "      <td>7.14</td>\n",
       "      <td>0.0</td>\n",
       "      <td>7.14</td>\n",
       "      <td>I will teach you in time, but for now restrain...</td>\n",
       "      <td>1.0</td>\n",
       "    </tr>\n",
       "    <tr>\n",
       "      <td>127976</td>\n",
       "      <td>gzedong</td>\n",
       "      <td>1.00</td>\n",
       "      <td>0.00</td>\n",
       "      <td>6.25</td>\n",
       "      <td>0.00</td>\n",
       "      <td>0.0</td>\n",
       "      <td>6.25</td>\n",
       "      <td>#MHA282 \\n\\nHow ochaco, Iida, froppy feel seei...</td>\n",
       "      <td>1.0</td>\n",
       "    </tr>\n",
       "  </tbody>\n",
       "</table>\n",
       "<p>6188 rows × 9 columns</p>\n",
       "</div>"
      ],
      "text/plain": [
       "               username   Tone  posemo  negemo   anx  anger    sad  \\\n",
       "30          karinaursua   1.00    0.00    8.33  0.00    0.0   8.33   \n",
       "38        peanut_crunch   2.30    5.41    8.11  0.00    0.0   8.11   \n",
       "51       jordan67032671   1.00    0.00   33.33  0.00    0.0  33.33   \n",
       "60             artnikay  99.00   15.00    5.00  5.00    0.0   5.00   \n",
       "64          bettleroni1   1.00    0.00   14.29  0.00    0.0  14.29   \n",
       "...                 ...    ...     ...     ...   ...    ...    ...   \n",
       "127728   alaskafkngreen  25.77    5.56    5.56  0.00    0.0   5.56   \n",
       "127821      teamyoutube  25.77    6.25    6.25  0.00    0.0   6.25   \n",
       "127872     aliraza00719   1.00    0.00   16.67  0.00    0.0  16.67   \n",
       "127896  melissa59060863   1.00    7.14   14.29  7.14    0.0   7.14   \n",
       "127976          gzedong   1.00    0.00    6.25  0.00    0.0   6.25   \n",
       "\n",
       "                                                    tweet  target  \n",
       "30                         im drunk but not drunk feel me     1.0  \n",
       "38      Finishing #InfinityTrainBook3.  We just saw Gr...     1.0  \n",
       "51      I want to meet someone who makes me feel the w...     1.0  \n",
       "60      yep huhu writing on paper feels good, idk why ...     1.0  \n",
       "64         I feel like I should go more often to the gym👀     1.0  \n",
       "...                                                   ...     ...  \n",
       "127728  you’ll always feel like my soulmate even if we...     1.0  \n",
       "127821  Since you've already appealed the suspension o...     1.0  \n",
       "127872  What did you feel if someone says same words t...     1.0  \n",
       "127896  I will teach you in time, but for now restrain...     1.0  \n",
       "127976  #MHA282 \\n\\nHow ochaco, Iida, froppy feel seei...     1.0  \n",
       "\n",
       "[6188 rows x 9 columns]"
      ]
     },
     "execution_count": 26,
     "metadata": {},
     "output_type": "execute_result"
    }
   ],
   "source": [
    "depressed=final_data[final_data['target']==1]\n",
    "depressed"
   ]
  },
  {
   "cell_type": "code",
   "execution_count": 27,
   "metadata": {},
   "outputs": [
    {
     "data": {
      "text/html": [
       "<div>\n",
       "<style scoped>\n",
       "    .dataframe tbody tr th:only-of-type {\n",
       "        vertical-align: middle;\n",
       "    }\n",
       "\n",
       "    .dataframe tbody tr th {\n",
       "        vertical-align: top;\n",
       "    }\n",
       "\n",
       "    .dataframe thead th {\n",
       "        text-align: right;\n",
       "    }\n",
       "</style>\n",
       "<table border=\"1\" class=\"dataframe\">\n",
       "  <thead>\n",
       "    <tr style=\"text-align: right;\">\n",
       "      <th></th>\n",
       "      <th>username</th>\n",
       "      <th>Tone</th>\n",
       "      <th>posemo</th>\n",
       "      <th>negemo</th>\n",
       "      <th>anx</th>\n",
       "      <th>anger</th>\n",
       "      <th>sad</th>\n",
       "      <th>tweet</th>\n",
       "      <th>target</th>\n",
       "    </tr>\n",
       "  </thead>\n",
       "  <tbody>\n",
       "    <tr>\n",
       "      <td>0</td>\n",
       "      <td>cjthesmartguy</td>\n",
       "      <td>25.77</td>\n",
       "      <td>0.00</td>\n",
       "      <td>0.00</td>\n",
       "      <td>0.00</td>\n",
       "      <td>0.00</td>\n",
       "      <td>0.00</td>\n",
       "      <td>“Respect me to the utmost when you see me, tha...</td>\n",
       "      <td>0.0</td>\n",
       "    </tr>\n",
       "    <tr>\n",
       "      <td>1</td>\n",
       "      <td>sunny_1747</td>\n",
       "      <td>25.77</td>\n",
       "      <td>1.96</td>\n",
       "      <td>1.96</td>\n",
       "      <td>0.00</td>\n",
       "      <td>0.00</td>\n",
       "      <td>1.96</td>\n",
       "      <td>Once read his interview, you may feel good  ht...</td>\n",
       "      <td>0.0</td>\n",
       "    </tr>\n",
       "    <tr>\n",
       "      <td>2</td>\n",
       "      <td>winterdownfall</td>\n",
       "      <td>98.87</td>\n",
       "      <td>5.88</td>\n",
       "      <td>0.00</td>\n",
       "      <td>0.00</td>\n",
       "      <td>0.00</td>\n",
       "      <td>0.00</td>\n",
       "      <td>I feel that. Still hate some mf from middle sc...</td>\n",
       "      <td>0.0</td>\n",
       "    </tr>\n",
       "    <tr>\n",
       "      <td>3</td>\n",
       "      <td>scousetilidie</td>\n",
       "      <td>1.00</td>\n",
       "      <td>0.00</td>\n",
       "      <td>10.00</td>\n",
       "      <td>0.00</td>\n",
       "      <td>10.00</td>\n",
       "      <td>0.00</td>\n",
       "      <td>#JeremyVine I feel the teachers and teaching a...</td>\n",
       "      <td>0.0</td>\n",
       "    </tr>\n",
       "    <tr>\n",
       "      <td>4</td>\n",
       "      <td>ashwxxn</td>\n",
       "      <td>1.00</td>\n",
       "      <td>0.00</td>\n",
       "      <td>6.90</td>\n",
       "      <td>3.45</td>\n",
       "      <td>0.00</td>\n",
       "      <td>0.00</td>\n",
       "      <td>Well for me I told my mom that it was making m...</td>\n",
       "      <td>0.0</td>\n",
       "    </tr>\n",
       "    <tr>\n",
       "      <td>...</td>\n",
       "      <td>...</td>\n",
       "      <td>...</td>\n",
       "      <td>...</td>\n",
       "      <td>...</td>\n",
       "      <td>...</td>\n",
       "      <td>...</td>\n",
       "      <td>...</td>\n",
       "      <td>...</td>\n",
       "      <td>...</td>\n",
       "    </tr>\n",
       "    <tr>\n",
       "      <td>128164</td>\n",
       "      <td>bitchaarie</td>\n",
       "      <td>1.00</td>\n",
       "      <td>2.27</td>\n",
       "      <td>6.82</td>\n",
       "      <td>0.00</td>\n",
       "      <td>2.27</td>\n",
       "      <td>2.27</td>\n",
       "      <td>Damn my ***** actually feels sad I’m not kiddi...</td>\n",
       "      <td>0.0</td>\n",
       "    </tr>\n",
       "    <tr>\n",
       "      <td>128166</td>\n",
       "      <td>valerie47728456</td>\n",
       "      <td>99.00</td>\n",
       "      <td>8.70</td>\n",
       "      <td>0.00</td>\n",
       "      <td>0.00</td>\n",
       "      <td>0.00</td>\n",
       "      <td>0.00</td>\n",
       "      <td>of+a+steel+sky.+Somehow+Arthur+feels+very,+ver...</td>\n",
       "      <td>0.0</td>\n",
       "    </tr>\n",
       "    <tr>\n",
       "      <td>128168</td>\n",
       "      <td>suzuacnh</td>\n",
       "      <td>99.00</td>\n",
       "      <td>15.69</td>\n",
       "      <td>0.00</td>\n",
       "      <td>0.00</td>\n",
       "      <td>0.00</td>\n",
       "      <td>0.00</td>\n",
       "      <td>missed you too prin, i still feel sick 😔</td>\n",
       "      <td>0.0</td>\n",
       "    </tr>\n",
       "    <tr>\n",
       "      <td>128169</td>\n",
       "      <td>sinnerykth</td>\n",
       "      <td>99.00</td>\n",
       "      <td>11.76</td>\n",
       "      <td>0.00</td>\n",
       "      <td>0.00</td>\n",
       "      <td>0.00</td>\n",
       "      <td>0.00</td>\n",
       "      <td>guess who made lockscreens after ages ? &lt;3\\n\\n...</td>\n",
       "      <td>0.0</td>\n",
       "    </tr>\n",
       "    <tr>\n",
       "      <td>128170</td>\n",
       "      <td>ruthrobinsonlon</td>\n",
       "      <td>25.77</td>\n",
       "      <td>0.00</td>\n",
       "      <td>0.00</td>\n",
       "      <td>0.00</td>\n",
       "      <td>0.00</td>\n",
       "      <td>0.00</td>\n",
       "      <td>I’d like to see that. It would make me feel sl...</td>\n",
       "      <td>0.0</td>\n",
       "    </tr>\n",
       "  </tbody>\n",
       "</table>\n",
       "<p>114580 rows × 9 columns</p>\n",
       "</div>"
      ],
      "text/plain": [
       "               username   Tone  posemo  negemo   anx  anger   sad  \\\n",
       "0         cjthesmartguy  25.77    0.00    0.00  0.00   0.00  0.00   \n",
       "1            sunny_1747  25.77    1.96    1.96  0.00   0.00  1.96   \n",
       "2        winterdownfall  98.87    5.88    0.00  0.00   0.00  0.00   \n",
       "3         scousetilidie   1.00    0.00   10.00  0.00  10.00  0.00   \n",
       "4               ashwxxn   1.00    0.00    6.90  3.45   0.00  0.00   \n",
       "...                 ...    ...     ...     ...   ...    ...   ...   \n",
       "128164       bitchaarie   1.00    2.27    6.82  0.00   2.27  2.27   \n",
       "128166  valerie47728456  99.00    8.70    0.00  0.00   0.00  0.00   \n",
       "128168         suzuacnh  99.00   15.69    0.00  0.00   0.00  0.00   \n",
       "128169       sinnerykth  99.00   11.76    0.00  0.00   0.00  0.00   \n",
       "128170  ruthrobinsonlon  25.77    0.00    0.00  0.00   0.00  0.00   \n",
       "\n",
       "                                                    tweet  target  \n",
       "0       “Respect me to the utmost when you see me, tha...     0.0  \n",
       "1       Once read his interview, you may feel good  ht...     0.0  \n",
       "2       I feel that. Still hate some mf from middle sc...     0.0  \n",
       "3       #JeremyVine I feel the teachers and teaching a...     0.0  \n",
       "4       Well for me I told my mom that it was making m...     0.0  \n",
       "...                                                   ...     ...  \n",
       "128164  Damn my ***** actually feels sad I’m not kiddi...     0.0  \n",
       "128166  of+a+steel+sky.+Somehow+Arthur+feels+very,+ver...     0.0  \n",
       "128168           missed you too prin, i still feel sick 😔     0.0  \n",
       "128169  guess who made lockscreens after ages ? <3\\n\\n...     0.0  \n",
       "128170  I’d like to see that. It would make me feel sl...     0.0  \n",
       "\n",
       "[114580 rows x 9 columns]"
      ]
     },
     "execution_count": 27,
     "metadata": {},
     "output_type": "execute_result"
    }
   ],
   "source": [
    "not_depressed=final_data[final_data['target']==0]\n",
    "not_depressed"
   ]
  },
  {
   "cell_type": "code",
   "execution_count": 28,
   "metadata": {},
   "outputs": [],
   "source": [
    "a=NLP_process(depressed['tweet'])"
   ]
  },
  {
   "cell_type": "code",
   "execution_count": 29,
   "metadata": {},
   "outputs": [],
   "source": [
    "b=NLP_process(not_depressed['tweet'])"
   ]
  },
  {
   "cell_type": "code",
   "execution_count": 30,
   "metadata": {},
   "outputs": [],
   "source": [
    "depressed = [item for sublist in a for item in sublist]\n",
    "not_depressed = [item for sublist in b for item in sublist]"
   ]
  },
  {
   "cell_type": "code",
   "execution_count": 31,
   "metadata": {},
   "outputs": [],
   "source": [
    "depressed_list=FreqDist(a)\n",
    "not_depressed_list=FreqDist(b)"
   ]
  },
  {
   "cell_type": "code",
   "execution_count": 32,
   "metadata": {},
   "outputs": [
    {
     "data": {
      "text/plain": [
       "FreqDist({'like': 47092, 'feel': 22144, 'make': 11896, 'pic': 10003, 'u': 9641, 'someone': 9431, 'people': 9092, 'know': 8177, 'bit': 7830, 'good': 7257, ...})"
      ]
     },
     "execution_count": 32,
     "metadata": {},
     "output_type": "execute_result"
    }
   ],
   "source": [
    "depressed_list\n",
    "not_depressed_list"
   ]
  },
  {
   "cell_type": "code",
   "execution_count": null,
   "metadata": {},
   "outputs": [],
   "source": []
  },
  {
   "cell_type": "code",
   "execution_count": 33,
   "metadata": {},
   "outputs": [],
   "source": [
    "not_depressed_bar_counts = [x[1] for x in not_depressed_list.most_common(50)]\n",
    "not_depressed_bar_words = [x[0] for x in not_depressed_list.most_common(50)]"
   ]
  },
  {
   "cell_type": "code",
   "execution_count": null,
   "metadata": {},
   "outputs": [],
   "source": []
  },
  {
   "cell_type": "code",
   "execution_count": 34,
   "metadata": {},
   "outputs": [],
   "source": [
    "depressed_bar_counts = [x[1] for x in depressed_list.most_common(50)]\n",
    "depressed_bar_words = [x[0] for x in depressed_list.most_common(50)]"
   ]
  },
  {
   "cell_type": "code",
   "execution_count": null,
   "metadata": {},
   "outputs": [],
   "source": []
  },
  {
   "cell_type": "code",
   "execution_count": 35,
   "metadata": {},
   "outputs": [
    {
     "data": {
      "text/html": [
       "<div>\n",
       "<style scoped>\n",
       "    .dataframe tbody tr th:only-of-type {\n",
       "        vertical-align: middle;\n",
       "    }\n",
       "\n",
       "    .dataframe tbody tr th {\n",
       "        vertical-align: top;\n",
       "    }\n",
       "\n",
       "    .dataframe thead th {\n",
       "        text-align: right;\n",
       "    }\n",
       "</style>\n",
       "<table border=\"1\" class=\"dataframe\">\n",
       "  <thead>\n",
       "    <tr style=\"text-align: right;\">\n",
       "      <th></th>\n",
       "      <th>username</th>\n",
       "      <th>Tone</th>\n",
       "      <th>posemo</th>\n",
       "      <th>negemo</th>\n",
       "      <th>anx</th>\n",
       "      <th>anger</th>\n",
       "      <th>sad</th>\n",
       "      <th>tweet</th>\n",
       "      <th>target</th>\n",
       "    </tr>\n",
       "  </thead>\n",
       "  <tbody>\n",
       "    <tr>\n",
       "      <td>0</td>\n",
       "      <td>cjthesmartguy</td>\n",
       "      <td>25.77</td>\n",
       "      <td>0.00</td>\n",
       "      <td>0.00</td>\n",
       "      <td>0.00</td>\n",
       "      <td>0.00</td>\n",
       "      <td>0.00</td>\n",
       "      <td>“Respect me to the utmost when you see me, tha...</td>\n",
       "      <td>0.0</td>\n",
       "    </tr>\n",
       "    <tr>\n",
       "      <td>1</td>\n",
       "      <td>sunny_1747</td>\n",
       "      <td>25.77</td>\n",
       "      <td>1.96</td>\n",
       "      <td>1.96</td>\n",
       "      <td>0.00</td>\n",
       "      <td>0.00</td>\n",
       "      <td>1.96</td>\n",
       "      <td>Once read his interview, you may feel good  ht...</td>\n",
       "      <td>0.0</td>\n",
       "    </tr>\n",
       "    <tr>\n",
       "      <td>2</td>\n",
       "      <td>winterdownfall</td>\n",
       "      <td>98.87</td>\n",
       "      <td>5.88</td>\n",
       "      <td>0.00</td>\n",
       "      <td>0.00</td>\n",
       "      <td>0.00</td>\n",
       "      <td>0.00</td>\n",
       "      <td>I feel that. Still hate some mf from middle sc...</td>\n",
       "      <td>0.0</td>\n",
       "    </tr>\n",
       "    <tr>\n",
       "      <td>3</td>\n",
       "      <td>scousetilidie</td>\n",
       "      <td>1.00</td>\n",
       "      <td>0.00</td>\n",
       "      <td>10.00</td>\n",
       "      <td>0.00</td>\n",
       "      <td>10.00</td>\n",
       "      <td>0.00</td>\n",
       "      <td>#JeremyVine I feel the teachers and teaching a...</td>\n",
       "      <td>0.0</td>\n",
       "    </tr>\n",
       "    <tr>\n",
       "      <td>4</td>\n",
       "      <td>ashwxxn</td>\n",
       "      <td>1.00</td>\n",
       "      <td>0.00</td>\n",
       "      <td>6.90</td>\n",
       "      <td>3.45</td>\n",
       "      <td>0.00</td>\n",
       "      <td>0.00</td>\n",
       "      <td>Well for me I told my mom that it was making m...</td>\n",
       "      <td>0.0</td>\n",
       "    </tr>\n",
       "    <tr>\n",
       "      <td>...</td>\n",
       "      <td>...</td>\n",
       "      <td>...</td>\n",
       "      <td>...</td>\n",
       "      <td>...</td>\n",
       "      <td>...</td>\n",
       "      <td>...</td>\n",
       "      <td>...</td>\n",
       "      <td>...</td>\n",
       "      <td>...</td>\n",
       "    </tr>\n",
       "    <tr>\n",
       "      <td>128164</td>\n",
       "      <td>bitchaarie</td>\n",
       "      <td>1.00</td>\n",
       "      <td>2.27</td>\n",
       "      <td>6.82</td>\n",
       "      <td>0.00</td>\n",
       "      <td>2.27</td>\n",
       "      <td>2.27</td>\n",
       "      <td>Damn my ***** actually feels sad I’m not kiddi...</td>\n",
       "      <td>0.0</td>\n",
       "    </tr>\n",
       "    <tr>\n",
       "      <td>128166</td>\n",
       "      <td>valerie47728456</td>\n",
       "      <td>99.00</td>\n",
       "      <td>8.70</td>\n",
       "      <td>0.00</td>\n",
       "      <td>0.00</td>\n",
       "      <td>0.00</td>\n",
       "      <td>0.00</td>\n",
       "      <td>of+a+steel+sky.+Somehow+Arthur+feels+very,+ver...</td>\n",
       "      <td>0.0</td>\n",
       "    </tr>\n",
       "    <tr>\n",
       "      <td>128168</td>\n",
       "      <td>suzuacnh</td>\n",
       "      <td>99.00</td>\n",
       "      <td>15.69</td>\n",
       "      <td>0.00</td>\n",
       "      <td>0.00</td>\n",
       "      <td>0.00</td>\n",
       "      <td>0.00</td>\n",
       "      <td>missed you too prin, i still feel sick 😔</td>\n",
       "      <td>0.0</td>\n",
       "    </tr>\n",
       "    <tr>\n",
       "      <td>128169</td>\n",
       "      <td>sinnerykth</td>\n",
       "      <td>99.00</td>\n",
       "      <td>11.76</td>\n",
       "      <td>0.00</td>\n",
       "      <td>0.00</td>\n",
       "      <td>0.00</td>\n",
       "      <td>0.00</td>\n",
       "      <td>guess who made lockscreens after ages ? &lt;3\\n\\n...</td>\n",
       "      <td>0.0</td>\n",
       "    </tr>\n",
       "    <tr>\n",
       "      <td>128170</td>\n",
       "      <td>ruthrobinsonlon</td>\n",
       "      <td>25.77</td>\n",
       "      <td>0.00</td>\n",
       "      <td>0.00</td>\n",
       "      <td>0.00</td>\n",
       "      <td>0.00</td>\n",
       "      <td>0.00</td>\n",
       "      <td>I’d like to see that. It would make me feel sl...</td>\n",
       "      <td>0.0</td>\n",
       "    </tr>\n",
       "  </tbody>\n",
       "</table>\n",
       "<p>120768 rows × 9 columns</p>\n",
       "</div>"
      ],
      "text/plain": [
       "               username   Tone  posemo  negemo   anx  anger   sad  \\\n",
       "0         cjthesmartguy  25.77    0.00    0.00  0.00   0.00  0.00   \n",
       "1            sunny_1747  25.77    1.96    1.96  0.00   0.00  1.96   \n",
       "2        winterdownfall  98.87    5.88    0.00  0.00   0.00  0.00   \n",
       "3         scousetilidie   1.00    0.00   10.00  0.00  10.00  0.00   \n",
       "4               ashwxxn   1.00    0.00    6.90  3.45   0.00  0.00   \n",
       "...                 ...    ...     ...     ...   ...    ...   ...   \n",
       "128164       bitchaarie   1.00    2.27    6.82  0.00   2.27  2.27   \n",
       "128166  valerie47728456  99.00    8.70    0.00  0.00   0.00  0.00   \n",
       "128168         suzuacnh  99.00   15.69    0.00  0.00   0.00  0.00   \n",
       "128169       sinnerykth  99.00   11.76    0.00  0.00   0.00  0.00   \n",
       "128170  ruthrobinsonlon  25.77    0.00    0.00  0.00   0.00  0.00   \n",
       "\n",
       "                                                    tweet  target  \n",
       "0       “Respect me to the utmost when you see me, tha...     0.0  \n",
       "1       Once read his interview, you may feel good  ht...     0.0  \n",
       "2       I feel that. Still hate some mf from middle sc...     0.0  \n",
       "3       #JeremyVine I feel the teachers and teaching a...     0.0  \n",
       "4       Well for me I told my mom that it was making m...     0.0  \n",
       "...                                                   ...     ...  \n",
       "128164  Damn my ***** actually feels sad I’m not kiddi...     0.0  \n",
       "128166  of+a+steel+sky.+Somehow+Arthur+feels+very,+ver...     0.0  \n",
       "128168           missed you too prin, i still feel sick 😔     0.0  \n",
       "128169  guess who made lockscreens after ages ? <3\\n\\n...     0.0  \n",
       "128170  I’d like to see that. It would make me feel sl...     0.0  \n",
       "\n",
       "[120768 rows x 9 columns]"
      ]
     },
     "execution_count": 35,
     "metadata": {},
     "output_type": "execute_result"
    }
   ],
   "source": [
    "final_data"
   ]
  },
  {
   "cell_type": "code",
   "execution_count": null,
   "metadata": {},
   "outputs": [],
   "source": []
  },
  {
   "cell_type": "code",
   "execution_count": null,
   "metadata": {},
   "outputs": [],
   "source": []
  },
  {
   "cell_type": "code",
   "execution_count": null,
   "metadata": {},
   "outputs": [],
   "source": []
  },
  {
   "cell_type": "code",
   "execution_count": 36,
   "metadata": {},
   "outputs": [],
   "source": [
    "from wordcloud import WordCloud\n",
    "D_dictionary = dict(zip(depressed_bar_words, depressed_bar_counts))\n",
    "ND_dictionary = dict(zip(not_depressed_bar_words, not_depressed_bar_counts))"
   ]
  },
  {
   "cell_type": "code",
   "execution_count": 37,
   "metadata": {},
   "outputs": [
    {
     "data": {
      "image/png": "[encoded data removed]",
      "text/plain": [
       "<Figure size 720x720 with 1 Axes>"
      ]
     },
     "metadata": {},
     "output_type": "display_data"
    }
   ],
   "source": [
    "# Create the word cloud:\n",
    "\n",
    "wordcloud = WordCloud(colormap='Spectral').generate_from_frequencies(D_dictionary)\n",
    "\n",
    "# Display the generated image w/ matplotlib:\n",
    "\n",
    "plt.figure(figsize=(10,10), facecolor='k')\n",
    "plt.imshow(wordcloud, interpolation='bilinear')\n",
    "plt.axis(\"off\")\n",
    "plt.tight_layout(pad=0)\n",
    "# plt.savefig('pos_Wcloud.png')\n",
    "# Uncomment the next line if you want to save your image:\n",
    "# plt.savefig('satire_wordcloud.png')\n",
    "\n",
    "plt.show()"
   ]
  },
  {
   "cell_type": "code",
   "execution_count": 38,
   "metadata": {},
   "outputs": [
    {
     "data": {
      "image/png": "[encoded data removed]",
      "text/plain": [
       "<Figure size 720x720 with 1 Axes>"
      ]
     },
     "metadata": {},
     "output_type": "display_data"
    }
   ],
   "source": [
    "wordcloud = WordCloud(colormap='Spectral').generate_from_frequencies(ND_dictionary)\n",
    "\n",
    "# Display the generated image w/ matplotlib:\n",
    "\n",
    "plt.figure(figsize=(10,10), facecolor='k')\n",
    "plt.imshow(wordcloud, interpolation='bilinear')\n",
    "plt.axis(\"off\")\n",
    "plt.tight_layout(pad=0)\n",
    "# plt.savefig('pos_Wcloud.png')\n",
    "# Uncomment the next line if you want to save your image:\n",
    "# plt.savefig('satire_wordcloud.png')\n",
    "\n",
    "plt.show()"
   ]
  },
  {
   "cell_type": "code",
   "execution_count": 39,
   "metadata": {},
   "outputs": [
    {
     "data": {
      "text/plain": [
       "<120768x97072 sparse matrix of type '<class 'numpy.float64'>'\n",
       "\twith 1452030 stored elements in Compressed Sparse Row format>"
      ]
     },
     "execution_count": 39,
     "metadata": {},
     "output_type": "execute_result"
    }
   ],
   "source": [
    "answer"
   ]
  },
  {
   "cell_type": "code",
   "execution_count": 40,
   "metadata": {},
   "outputs": [],
   "source": [
    "X=final_data['tweet']\n",
    "y=final_data['target']"
   ]
  },
  {
   "cell_type": "code",
   "execution_count": 41,
   "metadata": {},
   "outputs": [],
   "source": [
    "from sklearn.utils import resample"
   ]
  },
  {
   "cell_type": "code",
   "execution_count": 42,
   "metadata": {},
   "outputs": [],
   "source": [
    "df_majority = final_data[final_data.target==0]\n",
    "df_minority = final_data[final_data.target==1]\n",
    " "
   ]
  },
  {
   "cell_type": "code",
   "execution_count": 43,
   "metadata": {},
   "outputs": [
    {
     "data": {
      "text/plain": [
       "1.0    114580\n",
       "0.0    114580\n",
       "Name: target, dtype: int64"
      ]
     },
     "execution_count": 43,
     "metadata": {},
     "output_type": "execute_result"
    }
   ],
   "source": [
    "# Upsample minority class\n",
    "df_minority_upsampled = resample(df_minority, \n",
    "                                 replace=True,     # sample with replacement\n",
    "                                 n_samples=114580,    # to match majority class\n",
    "                                 random_state=0) # reproducible results\n",
    " \n",
    "# Combine majority class with upsampled minority class\n",
    "df_upsampled = pd.concat([df_majority, df_minority_upsampled])\n",
    " \n",
    "# Display new class counts\n",
    "df_upsampled.target.value_counts()\n",
    "# 1    576\n",
    "# 0    576\n",
    "# Name: balance, dtype: int64"
   ]
  },
  {
   "cell_type": "code",
   "execution_count": 44,
   "metadata": {},
   "outputs": [
    {
     "data": {
      "text/plain": [
       "0.0    114580\n",
       "1.0      6188\n",
       "Name: target, dtype: int64"
      ]
     },
     "execution_count": 44,
     "metadata": {},
     "output_type": "execute_result"
    }
   ],
   "source": [
    "final_data.target.value_counts()"
   ]
  },
  {
   "cell_type": "code",
   "execution_count": 45,
   "metadata": {},
   "outputs": [],
   "source": [
    "y = df_upsampled.target\n",
    "X = df_upsampled.tweet"
   ]
  },
  {
   "cell_type": "code",
   "execution_count": null,
   "metadata": {},
   "outputs": [],
   "source": []
  },
  {
   "cell_type": "code",
   "execution_count": null,
   "metadata": {},
   "outputs": [],
   "source": []
  },
  {
   "cell_type": "code",
   "execution_count": null,
   "metadata": {},
   "outputs": [],
   "source": []
  },
  {
   "cell_type": "code",
   "execution_count": null,
   "metadata": {},
   "outputs": [],
   "source": []
  },
  {
   "cell_type": "code",
   "execution_count": null,
   "metadata": {},
   "outputs": [],
   "source": []
  },
  {
   "cell_type": "code",
   "execution_count": null,
   "metadata": {},
   "outputs": [],
   "source": []
  },
  {
   "cell_type": "code",
   "execution_count": null,
   "metadata": {},
   "outputs": [],
   "source": []
  },
  {
   "cell_type": "code",
   "execution_count": null,
   "metadata": {},
   "outputs": [],
   "source": []
  },
  {
   "cell_type": "code",
   "execution_count": null,
   "metadata": {},
   "outputs": [],
   "source": []
  },
  {
   "cell_type": "code",
   "execution_count": 46,
   "metadata": {},
   "outputs": [],
   "source": [
    "# #using tf_idf vectorizer\n",
    "# tfidf = TfidfVectorizer(stop_words=sw_set, ngram_range=(1,1), lowercase=True)\n",
    "# # tfidf_data_train_lem = tfidf.fit_transform()\n",
    "# X_b = tfidf.fit_transform(X)\n",
    "# # X_test_b=tfidf.transform(X_test)"
   ]
  },
  {
   "cell_type": "code",
   "execution_count": 47,
   "metadata": {},
   "outputs": [],
   "source": [
    "#train, test, split\n",
    "X_train, X_test, y_train, y_test= train_test_split(X, y, test_size=.20, random_state=0)"
   ]
  },
  {
   "cell_type": "code",
   "execution_count": 48,
   "metadata": {},
   "outputs": [
    {
     "data": {
      "text/plain": [
       "<183328x85114 sparse matrix of type '<class 'numpy.float64'>'\n",
       "\twith 2207116 stored elements in Compressed Sparse Row format>"
      ]
     },
     "execution_count": 48,
     "metadata": {},
     "output_type": "execute_result"
    }
   ],
   "source": [
    "X_train_tfidf= tfidf.fit_transform(X_train)\n",
    "X_test_tfidf= tfidf.transform(X_test)\n",
    "X_train_tfidf"
   ]
  },
  {
   "cell_type": "code",
   "execution_count": 49,
   "metadata": {},
   "outputs": [
    {
     "data": {
      "text/plain": [
       "79848     today will be a good day i feel it  pic.twitte...\n",
       "56481     thanku for sharing because i feel blessed ever...\n",
       "44079      how i feel right now  pic.twitter.com/zLPZg2mjo5\n",
       "43327     now we have visors at work instead of masks I ...\n",
       "113740    Showers are amazing. They make you feel nice a...\n",
       "                                ...                        \n",
       "7590      I would laugh so hard, if the result was Davey...\n",
       "55022     Morning Scott the only top I can remember back...\n",
       "54435                    do u ever feel like a plastic bag?\n",
       "49002     i feel like it worked this time and if it didn...\n",
       "42631     Really coming at us like that? It’s 2020 we di...\n",
       "Name: tweet, Length: 183328, dtype: object"
      ]
     },
     "execution_count": 49,
     "metadata": {},
     "output_type": "execute_result"
    }
   ],
   "source": [
    "X_train"
   ]
  },
  {
   "cell_type": "code",
   "execution_count": 50,
   "metadata": {},
   "outputs": [
    {
     "data": {
      "text/plain": [
       "0.0    91665\n",
       "1.0    91663\n",
       "Name: target, dtype: int64"
      ]
     },
     "execution_count": 50,
     "metadata": {},
     "output_type": "execute_result"
    }
   ],
   "source": [
    "y_train.value_counts()"
   ]
  },
  {
   "cell_type": "code",
   "execution_count": 51,
   "metadata": {},
   "outputs": [],
   "source": [
    "rfc=RandomForestClassifier(n_estimators=1000, max_depth=6, n_jobs=-1, random_state=0, class_weight='balanced')"
   ]
  },
  {
   "cell_type": "code",
   "execution_count": 52,
   "metadata": {},
   "outputs": [
    {
     "data": {
      "text/plain": [
       "RandomForestClassifier(class_weight='balanced', max_depth=6, n_estimators=1000,\n",
       "                       n_jobs=-1, random_state=0)"
      ]
     },
     "execution_count": 52,
     "metadata": {},
     "output_type": "execute_result"
    }
   ],
   "source": [
    "rfc.fit(X_train_tfidf, y_train)"
   ]
  },
  {
   "cell_type": "code",
   "execution_count": 53,
   "metadata": {},
   "outputs": [],
   "source": [
    "y_preds=rfc.predict(X_test_tfidf)"
   ]
  },
  {
   "cell_type": "code",
   "execution_count": 54,
   "metadata": {},
   "outputs": [],
   "source": [
    "rfc_acc_score= accuracy_score(y_test, y_preds)\n"
   ]
  },
  {
   "cell_type": "code",
   "execution_count": 55,
   "metadata": {},
   "outputs": [
    {
     "data": {
      "text/plain": [
       "0.6274873450864025"
      ]
     },
     "execution_count": 55,
     "metadata": {},
     "output_type": "execute_result"
    }
   ],
   "source": [
    "rfc_acc_score\n"
   ]
  },
  {
   "cell_type": "code",
   "execution_count": 56,
   "metadata": {},
   "outputs": [
    {
     "data": {
      "text/plain": [
       "0.6249699677881977"
      ]
     },
     "execution_count": 56,
     "metadata": {},
     "output_type": "execute_result"
    }
   ],
   "source": [
    "rfc_f1_score= f1_score(y_test, y_preds, average='macro')\n",
    "rfc_f1_score"
   ]
  },
  {
   "cell_type": "code",
   "execution_count": 57,
   "metadata": {},
   "outputs": [
    {
     "data": {
      "text/plain": [
       "0.6274909214975717"
      ]
     },
     "execution_count": 57,
     "metadata": {},
     "output_type": "execute_result"
    }
   ],
   "source": [
    "from sklearn.metrics import recall_score\n",
    "recall_score(y_test, y_preds, average='macro')\n"
   ]
  },
  {
   "cell_type": "code",
   "execution_count": 58,
   "metadata": {},
   "outputs": [
    {
     "ename": "SyntaxError",
     "evalue": "invalid syntax (<ipython-input-58-d2686eb1c575>, line 1)",
     "output_type": "error",
     "traceback": [
      "\u001b[0;36m  File \u001b[0;32m\"<ipython-input-58-d2686eb1c575>\"\u001b[0;36m, line \u001b[0;32m1\u001b[0m\n\u001b[0;31m    x=\u001b[0m\n\u001b[0m      ^\u001b[0m\n\u001b[0;31mSyntaxError\u001b[0m\u001b[0;31m:\u001b[0m invalid syntax\n"
     ]
    }
   ],
   "source": [
    "x="
   ]
  },
  {
   "cell_type": "code",
   "execution_count": null,
   "metadata": {},
   "outputs": [],
   "source": [
    "from sklearn import svm\n",
    "SVMclf = svm.SVC(class_weight='balanced')"
   ]
  },
  {
   "cell_type": "code",
   "execution_count": null,
   "metadata": {},
   "outputs": [],
   "source": [
    "SVMclf.fit(X_train_tfidf, y_train)"
   ]
  },
  {
   "cell_type": "code",
   "execution_count": null,
   "metadata": {},
   "outputs": [],
   "source": [
    "svm_y_preds=clf.predict(X_test_tfidf)"
   ]
  },
  {
   "cell_type": "code",
   "execution_count": null,
   "metadata": {},
   "outputs": [],
   "source": [
    "print(accuracy_score(y_test, svm_y_preds))\n",
    "print(f1_score(y_test, svm_y_preds, average='macro'))\n",
    "print(recall_score(y_test, svm_y_preds, average='macro'))"
   ]
  },
  {
   "cell_type": "code",
   "execution_count": 59,
   "metadata": {},
   "outputs": [],
   "source": [
    "from sklearn.linear_model import LogisticRegression"
   ]
  },
  {
   "cell_type": "code",
   "execution_count": 60,
   "metadata": {},
   "outputs": [],
   "source": [
    "log_clf = LogisticRegression(penalty='l2', n_jobs=-1, random_state=0, class_weight='balanaced', C=10, solver='saga')"
   ]
  },
  {
   "cell_type": "code",
   "execution_count": 61,
   "metadata": {},
   "outputs": [
    {
     "data": {
      "text/plain": [
       "LogisticRegression(C=10, class_weight='balanaced', n_jobs=-1, random_state=0,\n",
       "                   solver='saga')"
      ]
     },
     "execution_count": 61,
     "metadata": {},
     "output_type": "execute_result"
    }
   ],
   "source": [
    "log_clf.fit(X_train_tfidf, y_train)"
   ]
  },
  {
   "cell_type": "code",
   "execution_count": 62,
   "metadata": {},
   "outputs": [],
   "source": [
    "log_y_preds=log_clf.predict(X_test_tfidf)"
   ]
  },
  {
   "cell_type": "code",
   "execution_count": 63,
   "metadata": {},
   "outputs": [
    {
     "name": "stdout",
     "output_type": "stream",
     "text": [
      "0.8551012393087799\n",
      "0.8542231907140023\n",
      "0.8550978542408791\n"
     ]
    }
   ],
   "source": [
    "print(accuracy_score(y_test, log_y_preds))\n",
    "print(f1_score(y_test, log_y_preds, average='macro'))\n",
    "print(recall_score(y_test, log_y_preds, average='macro'))"
   ]
  },
  {
   "cell_type": "code",
   "execution_count": null,
   "metadata": {},
   "outputs": [],
   "source": []
  },
  {
   "cell_type": "code",
   "execution_count": 64,
   "metadata": {},
   "outputs": [],
   "source": [
    "from sklearn.naive_bayes import MultinomialNB\n",
    "NBclf = MultinomialNB(alpha=.20)\n"
   ]
  },
  {
   "cell_type": "code",
   "execution_count": 65,
   "metadata": {},
   "outputs": [
    {
     "data": {
      "text/plain": [
       "MultinomialNB(alpha=0.2)"
      ]
     },
     "execution_count": 65,
     "metadata": {},
     "output_type": "execute_result"
    }
   ],
   "source": [
    "NBclf.fit(X_train_tfidf, y_train)"
   ]
  },
  {
   "cell_type": "code",
   "execution_count": 66,
   "metadata": {},
   "outputs": [],
   "source": [
    "NBclf_y_preds=NBclf.predict(X_test_tfidf)"
   ]
  },
  {
   "cell_type": "code",
   "execution_count": 67,
   "metadata": {},
   "outputs": [
    {
     "name": "stdout",
     "output_type": "stream",
     "text": [
      "0.7983286786524699\n",
      "0.7944031531110423\n",
      "0.7983226503871407\n"
     ]
    }
   ],
   "source": [
    "print(accuracy_score(y_test, NBclf_y_preds))\n",
    "print(f1_score(y_test, NBclf_y_preds, average='macro'))\n",
    "print(recall_score(y_test, NBclf_y_preds, average='macro'))"
   ]
  },
  {
   "cell_type": "code",
   "execution_count": null,
   "metadata": {},
   "outputs": [],
   "source": []
  },
  {
   "cell_type": "code",
   "execution_count": null,
   "metadata": {},
   "outputs": [],
   "source": []
  },
  {
   "cell_type": "code",
   "execution_count": null,
   "metadata": {},
   "outputs": [],
   "source": []
  },
  {
   "cell_type": "code",
   "execution_count": null,
   "metadata": {},
   "outputs": [],
   "source": []
  },
  {
   "cell_type": "code",
   "execution_count": null,
   "metadata": {},
   "outputs": [],
   "source": []
  },
  {
   "cell_type": "code",
   "execution_count": null,
   "metadata": {},
   "outputs": [],
   "source": [
    "import torch\n",
    "from transformers import BertTokenizer, BertModel"
   ]
  },
  {
   "cell_type": "code",
   "execution_count": null,
   "metadata": {},
   "outputs": [],
   "source": [
    "tokenizer = BertTokenizer.from_pretrained('bert-base-uncased')\n",
    "marked_text = [\"[CLS]\" + tweet + \"[SEP]\" for tweet in final_data.tweet]\n",
    "type(marked_text[0])"
   ]
  },
  {
   "cell_type": "code",
   "execution_count": null,
   "metadata": {},
   "outputs": [],
   "source": [
    "tokenized_text=[tokenizer.tokenize(marked_text[i]) for i in range(120768)]\n"
   ]
  },
  {
   "cell_type": "code",
   "execution_count": null,
   "metadata": {},
   "outputs": [],
   "source": [
    "len(tokenized_text)"
   ]
  },
  {
   "cell_type": "code",
   "execution_count": null,
   "metadata": {},
   "outputs": [],
   "source": [
    "segments_ids = [1] * len(marked_text)\n"
   ]
  },
  {
   "cell_type": "code",
   "execution_count": null,
   "metadata": {},
   "outputs": [],
   "source": [
    "indexed_tokens = [tokenizer.convert_tokens_to_ids(tokenized_text[i]) for i in range(120768)]\n"
   ]
  },
  {
   "cell_type": "code",
   "execution_count": null,
   "metadata": {},
   "outputs": [],
   "source": [
    "import tensorflow as tf\n",
    "from tensorflow import keras\n",
    "from tensorflow.keras import layers\n",
    "t=indexed_tokens"
   ]
  },
  {
   "cell_type": "code",
   "execution_count": null,
   "metadata": {},
   "outputs": [],
   "source": [
    "padded_inputs = tf.keras.preprocessing.sequence.pad_sequences(\n",
    "    t, padding=\"post\")"
   ]
  },
  {
   "cell_type": "code",
   "execution_count": null,
   "metadata": {},
   "outputs": [],
   "source": [
    "tokens_tensor = torch.tensor([padded_inputs])\n",
    "segments_tensors = torch.tensor([segments_ids])"
   ]
  },
  {
   "cell_type": "code",
   "execution_count": null,
   "metadata": {},
   "outputs": [],
   "source": [
    "model = BertModel.from_pretrained('bert-base-uncased',\n",
    "                                  output_hidden_states = True, # Whether the model returns all hidden-states.\n",
    "                                  )\n",
    "# Put the model in \"evaluation\" mode, meaning feed-forward operation.\n",
    "model.eval()"
   ]
  },
  {
   "cell_type": "code",
   "execution_count": null,
   "metadata": {},
   "outputs": [],
   "source": [
    "tokens_tensor = torch.tensor(tokens_tensor).to(torch.int64).long()"
   ]
  },
  {
   "cell_type": "code",
   "execution_count": null,
   "metadata": {},
   "outputs": [],
   "source": [
    "# with torch.no_grad():\n",
    "outputs = model(tokens_tensor, segments_tensors)\n"
   ]
  },
  {
   "cell_type": "code",
   "execution_count": null,
   "metadata": {},
   "outputs": [],
   "source": []
  },
  {
   "cell_type": "code",
   "execution_count": null,
   "metadata": {},
   "outputs": [],
   "source": []
  },
  {
   "cell_type": "code",
   "execution_count": null,
   "metadata": {},
   "outputs": [],
   "source": []
  },
  {
   "cell_type": "code",
   "execution_count": null,
   "metadata": {},
   "outputs": [],
   "source": []
  }
 ],
 "metadata": {
  "kernelspec": {
   "display_name": "Python 3",
   "language": "python",
   "name": "python3"
  },
  "language_info": {
   "codemirror_mode": {
    "name": "ipython",
    "version": 3
   },
   "file_extension": ".py",
   "mimetype": "text/x-python",
   "name": "python",
   "nbconvert_exporter": "python",
   "pygments_lexer": "ipython3",
   "version": "3.7.4"
  }
 },
 "nbformat": 4,
 "nbformat_minor": 2
}
